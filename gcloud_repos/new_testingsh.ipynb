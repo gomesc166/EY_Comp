{
 "cells": [
  {
   "cell_type": "markdown",
   "metadata": {
    "colab_type": "text",
    "id": "bnfQMFn7SVqm"
   },
   "source": [
    "### Packages"
   ]
  },
  {
   "cell_type": "code",
   "execution_count": 4,
   "metadata": {
    "colab": {},
    "colab_type": "code",
    "id": "0eClkVX5Bpvg"
   },
   "outputs": [],
   "source": [
    "import pandas as pd\n",
    "import numpy as np \n",
    "import io\n",
    "\n",
    "import matplotlib.pyplot as plt\n",
    "import matplotlib.patches as patches\n",
    "from IPython.display import clear_output\n",
    "\n",
    "\n",
    "from sklearn.preprocessing import MinMaxScaler\n",
    "from sklearn.metrics import mean_squared_error\n",
    "from sklearn.metrics import classification_report, confusion_matrix\n",
    "from sklearn.ensemble import RandomForestRegressor, GradientBoostingRegressor\n",
    "from sklearn.model_selection import train_test_split\n",
    "from sklearn.multioutput import MultiOutputRegressor\n",
    "from sklearn.metrics import accuracy_score\n",
    "\n",
    "#from google.colab import files\n",
    "#from google.colab import drive"
   ]
  },
  {
   "cell_type": "markdown",
   "metadata": {
    "colab_type": "text",
    "id": "gzjhqBiTSJvw"
   },
   "source": [
    "### Uplaoding from drive is so much faster"
   ]
  },
  {
   "cell_type": "code",
   "execution_count": 3,
   "metadata": {
    "colab": {
     "base_uri": "https://localhost:8080/",
     "height": 34
    },
    "colab_type": "code",
    "executionInfo": {
     "elapsed": 639,
     "status": "ok",
     "timestamp": 1557221569692,
     "user": {
      "displayName": "Phoebe Liang",
      "photoUrl": "https://lh3.googleusercontent.com/-MgDnW4gBqVg/AAAAAAAAAAI/AAAAAAAAC78/aG9KTBm96UU/s64/photo.jpg",
      "userId": "04768959665622642599"
     },
     "user_tz": -600
    },
    "id": "gbyNDjGBOFKE",
    "outputId": "73639c61-299f-4699-fc88-c4c3e1361667"
   },
   "outputs": [],
   "source": [
    "#drive.mount('/content/drive')"
   ]
  },
  {
   "cell_type": "code",
   "execution_count": 5,
   "metadata": {
    "colab": {},
    "colab_type": "code",
    "id": "xSK_VHCnOfDc"
   },
   "outputs": [],
   "source": [
    "df_train = pd.read_csv('data_train_mod.csv',index_col=0)\n",
    "df_test = pd.read_csv('data_test_mod.csv',index_col=0)\n",
    "df_train = pd.DataFrame(df_train)\n",
    "df_test = pd.DataFrame(df_test)\n"
   ]
  },
  {
   "cell_type": "markdown",
   "metadata": {
    "colab_type": "text",
    "id": "CafhuZqRENPf"
   },
   "source": [
    "### Data Structure\n",
    "Original data is like this: each row contains data for the trajectory of a device, including its unique ID, device ID, time of entry, time of exit, maximum velocity (Vmax), minimum velocity (Vmin), average velocity (Vmean), entry coordinates (x_entry, y_entry) and exit coordinates (X_exit, u_exit). For example:\n",
    "\n",
    "\n",
    "---\n",
    "\n",
    "\n",
    "Unnamed: 0                                                       0\n",
    "\n",
    "hash                    0000a8602cf2def930488dee7cdad104_1\n",
    "\n",
    "trajectory_id    traj_0000a8602cf2def930488dee7cdad104_1_0\n",
    "\n",
    "time_entry                                        07:04:31\n",
    "\n",
    "time_exit                                         07:08:32\n",
    "\n",
    "vmax                                                   NaN\n",
    "\n",
    "vmin                                                   NaN\n",
    "\n",
    "vmean                                                  NaN\n",
    "\n",
    "x_entry                                        3.75101e+06\n",
    "\n",
    "y_entry                                        -1.9094e+07\n",
    "\n",
    "x_exit                                         3.75033e+06\n",
    "\n",
    "y_exit                                        -1.91363e+07\n",
    "\n",
    "Name: 0, dtype: object\n",
    "\n",
    "\n",
    "---\n",
    "\n",
    "\n",
    "\n",
    "**Aim is to predict for the test data, for each device for the last trajectory, whether it's in the city region or not. (city region: x: (3750901.5068,3770901.5068), y:(-19268905.6133,-19208905.6133)) **\n",
    "\n",
    "**We deleted the vmin, vmax, vmean and put in new data, veocity and time difference: ** \n",
    "\n",
    "\n",
    "\n",
    "---\n",
    "hash                                0000a8602cf2def930488dee7cdad104_1\n",
    "\n",
    "trajectory_id               traj_0000a8602cf2def930488dee7cdad104_1_0\n",
    "\n",
    "time_entry                                         7:04:31\n",
    "\n",
    "time_exit                                          7:08:32\n",
    "\n",
    "vel1                                                175.79\n",
    "\n",
    "time_diff1                                             241\n",
    "\n",
    "vel2                                               257.946\n",
    "\n",
    "time_diff2                                             722\n",
    "\n",
    "x_entry                                        3.75101e+06\n",
    "\n",
    "y_entry                                        -1.9094e+07\n",
    "\n",
    "x_exit                                         3.75033e+06\n",
    "\n",
    "y_exit                                        -1.91363e+07\n",
    "\n",
    "\n",
    "---\n",
    "\n",
    "\n",
    "\n"
   ]
  },
  {
   "cell_type": "code",
   "execution_count": 108,
   "metadata": {
    "colab": {
     "base_uri": "https://localhost:8080/",
     "height": 238
    },
    "colab_type": "code",
    "executionInfo": {
     "elapsed": 717,
     "status": "ok",
     "timestamp": 1557221580547,
     "user": {
      "displayName": "Phoebe Liang",
      "photoUrl": "https://lh3.googleusercontent.com/-MgDnW4gBqVg/AAAAAAAAAAI/AAAAAAAAC78/aG9KTBm96UU/s64/photo.jpg",
      "userId": "04768959665622642599"
     },
     "user_tz": -600
    },
    "id": "cTCLPFnLNcoK",
    "outputId": "60bc954f-520e-43da-998b-52f8f078b658"
   },
   "outputs": [
    {
     "name": "stdout",
     "output_type": "stream",
     "text": [
      "hash                    0000a8602cf2def930488dee7cdad104_1\n",
      "trajectory_id    traj_0000a8602cf2def930488dee7cdad104_1_0\n",
      "time_entry                                           25471\n",
      "time_exit                                            25712\n",
      "vel1                                                175.79\n",
      "time_diff1                                             241\n",
      "vel2                                               257.946\n",
      "time_diff2                                             722\n",
      "x_entry                                        3.75101e+06\n",
      "y_entry                                        -1.9094e+07\n",
      "x_exit                                         3.75033e+06\n",
      "y_exit                                        -1.91363e+07\n",
      "Name: 0, dtype: object\n"
     ]
    }
   ],
   "source": [
    "print(df_train.loc[0])"
   ]
  },
  {
   "cell_type": "markdown",
   "metadata": {
    "colab_type": "text",
    "id": "JHF-yo21O54F"
   },
   "source": [
    "## Trying multi-output regressors"
   ]
  },
  {
   "cell_type": "markdown",
   "metadata": {
    "colab_type": "text",
    "id": "gCU2XdzCWo4W"
   },
   "source": [
    "### filling nan with 0 and converting time string in number"
   ]
  },
  {
   "cell_type": "code",
   "execution_count": 6,
   "metadata": {
    "colab": {},
    "colab_type": "code",
    "id": "o3koZmnMWza-"
   },
   "outputs": [],
   "source": [
    "df_train_mulr = df_train.loc[0:2004]\n",
    "df_test_mulr = df_train.loc[2004:3003]\n",
    "# trying with very small dataset\n",
    "#df_train_mulr = df_train_mulr.fillna(0)\n",
    "#df_test_mulr = df_test_mulr.fillna(0)"
   ]
  },
  {
   "cell_type": "markdown",
   "metadata": {
    "colab_type": "text",
    "id": "A1CGrt9TijAe"
   },
   "source": [
    "### stacking the inputs together"
   ]
  },
  {
   "cell_type": "code",
   "execution_count": 10,
   "metadata": {
    "colab": {},
    "colab_type": "code",
    "id": "OXK1RCfGl91m"
   },
   "outputs": [],
   "source": [
    "max_length = max(df_train.groupby(\"hash\").nunique()[\"trajectory_id\"])*10-2\n",
    "def stacking(df):\n",
    "  df = df.drop('trajectory_id',axis = 1)\n",
    "  grouped = df.groupby('hash')\n",
    "  X = np.empty((1,max_length))\n",
    "  y = np.empty((1,2))\n",
    "\n",
    "  for name, group in grouped:\n",
    "    hash_ = np.array([[]])\n",
    "    #df_hash = df.loc[df['hash'] == name]    \n",
    "    group = group.drop('hash', axis = 1)\n",
    "    for index, row in group.iterrows():\n",
    "      hash_ = np.append(hash_,np.array([row[:]]))\n",
    "  \n",
    "    y = np.r_[y,np.array([hash_[np.shape(hash_)[0]-2:np.shape(hash_)[0]]])] # putting the output away\n",
    "    hash_ = np.delete(hash_,[np.shape(hash_)[0]-2,np.shape(hash_)[0]-1]) # removing the output\n",
    "  \n",
    "    num_pad = max_length - np.shape(hash_)[0] # padding with 0s\n",
    "    hash_ = np.append(hash_,np.zeros(num_pad))\n",
    "  \n",
    "    X = np.r_[X,np.array([hash_])] # changing dimemsions of hash_\n",
    "\n",
    "  y = np.delete(y, 0, 0)\n",
    "  X = np.delete(X, 0, 0)\n",
    "  \n",
    "  return X, y\n"
   ]
  },
  {
   "cell_type": "code",
   "execution_count": 11,
   "metadata": {
    "colab": {
     "base_uri": "https://localhost:8080/",
     "height": 316
    },
    "colab_type": "code",
    "executionInfo": {
     "elapsed": 690,
     "status": "error",
     "timestamp": 1557225064276,
     "user": {
      "displayName": "Phoebe Liang",
      "photoUrl": "https://lh3.googleusercontent.com/-MgDnW4gBqVg/AAAAAAAAAAI/AAAAAAAAC78/aG9KTBm96UU/s64/photo.jpg",
      "userId": "04768959665622642599"
     },
     "user_tz": -600
    },
    "id": "u5perVlKk7r1",
    "outputId": "94c361f3-05de-4adb-8169-2063f080c54e"
   },
   "outputs": [
    {
     "name": "stdout",
     "output_type": "stream",
     "text": [
      "198\n",
      "(333, 198)\n",
      "(333, 2)\n"
     ]
    }
   ],
   "source": [
    "# training data\n",
    "print(max_length)\n",
    "X_mulr, y_mulr = stacking(df_train_mulr)\n",
    "print(np.shape(X_mulr)); print(np.shape(y_mulr))\n",
    "#print(X_mulr[0]); print(y_mulr[0])"
   ]
  },
  {
   "cell_type": "code",
   "execution_count": 12,
   "metadata": {
    "colab": {},
    "colab_type": "code",
    "id": "KPTxX1UmqfcJ"
   },
   "outputs": [],
   "source": [
    "# testing data with output\n",
    "X_test, y_test = stacking(df_test_mulr)\n",
    "#print(np.shape(X_test)); print(np.shape(y_test))"
   ]
  },
  {
   "cell_type": "code",
   "execution_count": 13,
   "metadata": {
    "colab": {},
    "colab_type": "code",
    "id": "EA7_vHphpjqZ"
   },
   "outputs": [],
   "source": [
    "regr_multirf = MultiOutputRegressor(RandomForestRegressor(n_estimators=100,max_depth=30,random_state=0))\n",
    "regr_multirf.fit(X_mulr, y_mulr)\n",
    "\n",
    "# Predict on new data\n",
    "y_multirf = regr_multirf.predict(X_test)"
   ]
  },
  {
   "cell_type": "code",
   "execution_count": 14,
   "metadata": {
    "colab": {},
    "colab_type": "code",
    "id": "aS3eV2fdzdxJ"
   },
   "outputs": [],
   "source": [
    "def city(y):\n",
    "  city = np.array([[]])\n",
    "  for i in range(np.shape(y)[0]):\n",
    "    if y[i][0] > 3750901.5068 and y[i][0] < 3770901.5068 and y[i][1] > -19268905.6133 and y[i][1] < -19208905.6133:\n",
    "      city = np.append(city,1)\n",
    "    else:\n",
    "      city = np.append(city,0)\n",
    "  return city\n",
    "  "
   ]
  },
  {
   "cell_type": "code",
   "execution_count": 15,
   "metadata": {
    "colab": {
     "base_uri": "https://localhost:8080/",
     "height": 221
    },
    "colab_type": "code",
    "executionInfo": {
     "elapsed": 673,
     "status": "ok",
     "timestamp": 1557223766464,
     "user": {
      "displayName": "Phoebe Liang",
      "photoUrl": "https://lh3.googleusercontent.com/-MgDnW4gBqVg/AAAAAAAAAAI/AAAAAAAAC78/aG9KTBm96UU/s64/photo.jpg",
      "userId": "04768959665622642599"
     },
     "user_tz": -600
    },
    "id": "pdSNro-Iw3OI",
    "outputId": "27ba6bf7-ddb6-46db-a124-68e88741ded7"
   },
   "outputs": [
    {
     "name": "stdout",
     "output_type": "stream",
     "text": [
      "             precision    recall  f1-score   support\n",
      "\n",
      "        0.0     0.8595    0.8320    0.8455       125\n",
      "        1.0     0.5962    0.6458    0.6200        48\n",
      "\n",
      "avg / total     0.7864    0.7803    0.7830       173\n",
      "\n",
      "[[104  21]\n",
      " [ 17  31]]\n",
      "0.7803468208092486\n"
     ]
    }
   ],
   "source": [
    "# accuracy \n",
    "print (classification_report(city(y_test), city(y_multirf),digits = 4))\n",
    "print (confusion_matrix(city(y_test), city(y_multirf)))\n",
    "print (accuracy_score(city(y_test), city(y_multirf)))"
   ]
  },
  {
   "cell_type": "code",
   "execution_count": 16,
   "metadata": {
    "colab": {
     "base_uri": "https://localhost:8080/",
     "height": 293
    },
    "colab_type": "code",
    "executionInfo": {
     "elapsed": 1082,
     "status": "ok",
     "timestamp": 1557221624188,
     "user": {
      "displayName": "Phoebe Liang",
      "photoUrl": "https://lh3.googleusercontent.com/-MgDnW4gBqVg/AAAAAAAAAAI/AAAAAAAAC78/aG9KTBm96UU/s64/photo.jpg",
      "userId": "04768959665622642599"
     },
     "user_tz": -600
    },
    "id": "mrgHB8dt-uv_",
    "outputId": "fbbd4ebd-b782-432f-f793-6ea70fe10fcd"
   },
   "outputs": [
    {
     "data": {
      "text/plain": [
       "<Figure size 432x288 with 0 Axes>"
      ]
     },
     "metadata": {},
     "output_type": "display_data"
    },
    {
     "data": {
      "image/png": "[encoded data removed]",
      "text/plain": [
       "<Figure size 432x288 with 1 Axes>"
      ]
     },
     "metadata": {},
     "output_type": "display_data"
    }
   ],
   "source": [
    "plt.figure()\n",
    "s = 20\n",
    "a = 0.8\n",
    "fig = plt.figure()\n",
    "ax = fig.add_subplot(111)\n",
    "ax.scatter(y_multirf[:, 0], y_multirf[:, 1], edgecolor='k',\n",
    "            c=\"navy\", s=s, marker=\"s\", alpha=a, label=\"Data\")\n",
    "ax.scatter(y_test[:, 0], y_test[:, 1], edgecolor='k',\n",
    "            c=\"red\", s=s, marker=\"s\", alpha=a, label=\"Data\")\n",
    "rect = patches.Rectangle((3750901.5068,-19268905.6133),20000,60000,linewidth=1,edgecolor='r',facecolor='none')\n",
    "ax.add_patch(rect)\n",
    "plt.show()"
   ]
  },
  {
   "cell_type": "code",
   "execution_count": 0,
   "metadata": {
    "colab": {},
    "colab_type": "code",
    "id": "XRmrg6_X6eXv"
   },
   "outputs": [],
   "source": [
    "# downloading results\n",
    "df = pd.DataFrame(city(y_multirf))\n",
    "df.to_csv('df.csv')\n",
    "files.download('df.csv')"
   ]
  },
  {
   "cell_type": "markdown",
   "metadata": {
    "colab_type": "text",
    "id": "ne2wISHo7kWn"
   },
   "source": [
    "## Putting everything together"
   ]
  },
  {
   "cell_type": "code",
   "execution_count": 3,
   "metadata": {
    "colab": {},
    "colab_type": "code",
    "id": "8kkgB_aN8MOu"
   },
   "outputs": [],
   "source": [
    "def stacking(df):\n",
    "  df = df.drop('trajectory_id',axis = 1)\n",
    "  grouped = df.groupby('hash')\n",
    "  X = np.empty((1,max_length))\n",
    "  y = np.empty((1,2))\n",
    "\n",
    "  for name, group in grouped:\n",
    "    hash_ = np.array([[]])\n",
    "    #df_hash = df.loc[df['hash'] == name]\n",
    "    group = group.drop('hash', axis = 1)\n",
    "    for index, row in group.iterrows():\n",
    "        hash_ = np.append(hash_,np.array([row[:]]))\n",
    "  \n",
    "    y = np.r_[y,np.array([hash_[np.shape(hash_)[0]-2:np.shape(hash_)[0]]])] # putting the output away\n",
    "    hash_ = np.delete(hash_,[np.shape(hash_)[0]-2,np.shape(hash_)[0]-1]) # removing the output\n",
    "  \n",
    "    num_pad = max_length - np.shape(hash_)[0] # padding with 0s\n",
    "    hash_ = np.append(hash_,np.zeros(num_pad))\n",
    "  \n",
    "    X = np.r_[X,np.array([hash_])] # changing dimemsions of hash_\n",
    "\n",
    "  y = np.delete(y, 0, 0)\n",
    "  X = np.delete(X, 0, 0)\n",
    "  \n",
    "  return X, y\n",
    "\n",
    "\n",
    "def stacking_no_y(df):\n",
    "  df = df.drop('trajectory_id',axis = 1)\n",
    "  grouped = df.groupby('hash')\n",
    "  X = np.empty((1,max_length))\n",
    "\n",
    "  for name, group in grouped:\n",
    "    hash_ = np.array([[]])\n",
    "    #df_hash = df.loc[df['hash'] == name]\n",
    "    group = group.drop('hash', axis = 1)\n",
    "    for index, row in group.iterrows():\n",
    "        hash_ = np.append(hash_,np.array([row[:]]))\n",
    "\n",
    "    num_pad = max_length - np.shape(hash_)[0] # padding with 0s\n",
    "    hash_ = np.append(hash_,np.zeros(num_pad))\n",
    "  \n",
    "    X = np.r_[X,np.array([hash_])] # changing dimemsions of hash_\n",
    "\n",
    "  X = np.delete(X, 0, 0)\n",
    "  return X\n",
    "\n",
    "\n",
    "def city(y):\n",
    "  city = np.array([[]])\n",
    "  for i in range(np.shape(y)[0]):\n",
    "    if y[i][0] > 3750901.5068 and y[i][0] < 3770901.5068 and y[i][1] > -19268905.6133 and y[i][1] < -19208905.6133:\n",
    "      city = np.append(city,1)\n",
    "    else:\n",
    "      city = np.append(city,0)\n",
    "  return city\n",
    "\n"
   ]
  },
  {
   "cell_type": "markdown",
   "metadata": {
    "colab_type": "text",
    "id": "e7bpflVQu3MJ"
   },
   "source": [
    "### trying with other small dataset"
   ]
  },
  {
   "cell_type": "code",
   "execution_count": 4,
   "metadata": {
    "colab": {
     "base_uri": "https://localhost:8080/",
     "height": 480
    },
    "colab_type": "code",
    "executionInfo": {
     "elapsed": 145792,
     "status": "ok",
     "timestamp": 1557220294256,
     "user": {
      "displayName": "Phoebe Liang",
      "photoUrl": "https://lh3.googleusercontent.com/-MgDnW4gBqVg/AAAAAAAAAAI/AAAAAAAAC78/aG9KTBm96UU/s64/photo.jpg",
      "userId": "04768959665622642599"
     },
     "user_tz": -600
    },
    "id": "mzyzPq5d7naH",
    "outputId": "7f4e3913-87f2-43a3-91f4-4e0ece682cd7"
   },
   "outputs": [
    {
     "name": "stdout",
     "output_type": "stream",
     "text": [
      "             precision    recall  f1-score   support\n",
      "\n",
      "        0.0     0.8897    0.7933    0.8388      1200\n",
      "        1.0     0.5887    0.7505    0.6599       473\n",
      "\n",
      "avg / total     0.8046    0.7812    0.7882      1673\n",
      "\n",
      "[[952 248]\n",
      " [118 355]]\n",
      "0.7812313209802749\n"
     ]
    },
    {
     "data": {
      "text/plain": [
       "<Figure size 432x288 with 0 Axes>"
      ]
     },
     "metadata": {},
     "output_type": "display_data"
    },
    {
     "data": {
      "image/png": "[encoded data removed]",
      "text/plain": [
       "<Figure size 432x288 with 1 Axes>"
      ]
     },
     "metadata": {},
     "output_type": "display_data"
    }
   ],
   "source": [
    "max_length = max(df_train.groupby(\"hash\").nunique()[\"trajectory_id\"])*10-2\n",
    "df_train_mulr = df_train.loc[0:4000]\n",
    "df_test_mulr = df_train.loc[10001:20001]\n",
    "# trying with very small dataset\n",
    "\n",
    "df_train_mulr = df_train_mulr.fillna(0)\n",
    "df_test_mulr = df_test_mulr.fillna(0)\n",
    "\n",
    "X_mulr, y_mulr = stacking(df_train_mulr)\n",
    "X_test, y_test = stacking(df_test_mulr)\n",
    "\n",
    "regr_multirf = MultiOutputRegressor(RandomForestRegressor(n_estimators=200,max_depth=100,random_state=0))\n",
    "regr_multirf.fit(X_mulr, y_mulr)\n",
    "\n",
    "# Predict on new data\n",
    "y_multirf = regr_multirf.predict(X_test)\n",
    "\n",
    "\n",
    "# accuracy \n",
    "print (classification_report(city(y_test), city(y_multirf),digits = 4))\n",
    "print (confusion_matrix(city(y_test), city(y_multirf)))\n",
    "print (accuracy_score(city(y_test), city(y_multirf)))\n",
    "\n",
    "# plotting \n",
    "plt.figure()\n",
    "s = 20\n",
    "a = 0.8\n",
    "fig = plt.figure()\n",
    "ax = fig.add_subplot(111)\n",
    "ax.scatter(y_multirf[:, 0], y_multirf[:, 1], edgecolor='k',\n",
    "            c=\"navy\", s=s, marker=\"s\", alpha=a, label=\"Data\")\n",
    "ax.scatter(y_test[:, 0], y_test[:, 1], edgecolor='k',\n",
    "            c=\"red\", s=s, marker=\"s\", alpha=a, label=\"Data\")\n",
    "rect = patches.Rectangle((3750901.5068,-19268905.6133),20000,60000,linewidth=1,edgecolor='r',facecolor='none')\n",
    "ax.add_patch(rect)\n",
    "plt.show()"
   ]
  },
  {
   "cell_type": "code",
   "execution_count": 5,
   "metadata": {
    "colab": {},
    "colab_type": "code",
    "id": "P_uB-nlDwlfc"
   },
   "outputs": [
    {
     "name": "stdout",
     "output_type": "stream",
     "text": [
      "             precision    recall  f1-score   support\n",
      "\n",
      "        0.0     0.8484    0.8625    0.8554      1200\n",
      "        1.0     0.6358    0.6089    0.6220       473\n",
      "\n",
      "avg / total     0.7883    0.7908    0.7894      1673\n",
      "\n",
      "[[1035  165]\n",
      " [ 185  288]]\n"
     ]
    }
   ],
   "source": [
    "regr_multigbr = MultiOutputRegressor(GradientBoostingRegressor(n_estimators=200,max_depth=100,random_state=0))\n",
    "regr_multigbr.fit(X_mulr, y_mulr)\n",
    "\n",
    "# Predict on new data\n",
    "y_multigbr = regr_multigbr.predict(X_test)\n",
    "\n",
    "\n",
    "# accuracy \n",
    "print (classification_report(city(y_test), city(y_multigbr),digits = 4))\n",
    "print (confusion_matrix(city(y_test), city(y_multigbr)))\n"
   ]
  },
  {
   "cell_type": "markdown",
   "metadata": {
    "colab_type": "text",
    "id": "ukxNnj-st2Ch"
   },
   "source": [
    "### downloading the flatten dataframe for future use"
   ]
  },
  {
   "cell_type": "markdown",
   "metadata": {},
   "source": [
    "### stacking by chunks\n",
    "https://stackoverflow.com/questions/31655634/pandas-groupy-take-only-the-first-n-groups"
   ]
  },
  {
   "cell_type": "code",
   "execution_count": 1,
   "metadata": {},
   "outputs": [],
   "source": [
    "def stacking(groups):\n",
    "    X_group = np.empty(shape=[0, max_length])\n",
    "    y_group = np.empty(shape=[0, 2])\n",
    "    for i in range(len(groups)):\n",
    "        hash_ = np.array([[]])\n",
    "        group = groups[i]\n",
    "        group = group.drop('hash', axis = 1)\n",
    "        for index, row in group.iterrows():\n",
    "            hash_ = np.append(hash_,np.array([row[:]]))\n",
    "  \n",
    "        y_group = np.r_[y_group,np.array([hash_[np.shape(hash_)[0]-2:np.shape(hash_)[0]]])] # putting the output away\n",
    "        hash_ = np.delete(hash_,[np.shape(hash_)[0]-2,np.shape(hash_)[0]-1]) # removing the output\n",
    "  \n",
    "        num_pad = max_length - np.shape(hash_)[0] # padding with 0s\n",
    "        hash_ = np.append(hash_,np.zeros(num_pad))\n",
    "  \n",
    "        X_group = np.r_[X_group,np.array([hash_])] # changing dimemsions of hash_\n",
    "    return X_group, y_group\n",
    "\n",
    "\n",
    "def stacking_by_chunks(df):\n",
    "    df = df.drop('trajectory_id',axis = 1)\n",
    "    grouped = df.groupby('hash')\n",
    "    X = np.empty(shape=[0, max_length])\n",
    "    y = np.empty(shape=[0, 2])  \n",
    "    num_groups = grouped['hash'].unique().count()\n",
    "    num_iter = 100\n",
    "    chunk_size = int(num_groups/num_iter)\n",
    "    #last_chunk = num_groups - chunk_size*num_iter\n",
    "    \n",
    "    for i in range(1,num_iter+1):\n",
    "        groups = [g[1] for g in list(grouped)[(i-1)*chunk_size:i*chunk_size]]\n",
    "        X_group, y_group = stacking(groups)\n",
    "        X = np.r_[X,X_group]\n",
    "        y = np.r_[y,y_group]\n",
    "    \n",
    "    groups = [g[1] for g in list(grouped)[num_iter*chunk_size:num_groups]] \n",
    "    #last chunk\n",
    "    X_group, y_group = stacking(groups)\n",
    "    X = np.r_[X,X_group]\n",
    "    y = np.r_[y,y_group]\n",
    "    \n",
    "    return X,y\n",
    "\n",
    "def city(y):\n",
    "    city = np.array([[]])\n",
    "    for i in range(np.shape(y)[0]):\n",
    "        if y[i][0] > 3750901.5068 and y[i][0] < 3770901.5068 and y[i][1] > -19268905.6133 and y[i][1] < -19208905.6133:\n",
    "            city = np.append(city,1)\n",
    "        else:\n",
    "            city = np.append(city,0)\n",
    "    return city  \n",
    "\n",
    "def stacking_no_y_left(df):\n",
    "    df = df.drop('trajectory_id',axis = 1)\n",
    "    grouped = df.groupby('hash')\n",
    "    X = np.empty((1,max_length))\n",
    "\n",
    "    for name, group in grouped:\n",
    "        hash_ = np.array([[]])\n",
    "        group = group.drop('hash', axis = 1)\n",
    "        for index, row in group.iterrows():\n",
    "            hash_ = np.append(hash_,np.array([row[:]]))\n",
    "\n",
    "    num_pad = max_length - np.shape(hash_)[0] # padding with 0s\n",
    "    hash_ = np.append(np.zeros(num_pad),hash_)\n",
    "  \n",
    "    X = np.r_[X,np.array([hash_])] # changing dimemsions of hash_\n",
    "\n",
    "      X = np.delete(X, 0, 0)\n",
    "  return X\n"
   ]
  },
  {
   "cell_type": "code",
   "execution_count": 164,
   "metadata": {
    "colab": {},
    "colab_type": "code",
    "id": "VJTPWUgntr_n"
   },
   "outputs": [],
   "source": [
    "max_length = max(df_train.groupby(\"hash\").nunique()[\"trajectory_id\"])*10-2\n",
    "df_train_mulr = df_train\n",
    "df_train_mulr = df_train_mulr.fillna(0)\n",
    "\n",
    "X_train, y_train = stacking_by_chunks(df_train_mulr)\n",
    "X_train = pd.DataFrame(X_train)\n",
    "y_train = pd.DataFrame(y_train)\n",
    "X_train.to_csv('X_train.csv')\n",
    "y_train.to_csv('y_train.csv')\n",
    "#files.download('X_train.csv')\n",
    "#files.download('y_train.csv')\n"
   ]
  },
  {
   "cell_type": "code",
   "execution_count": 166,
   "metadata": {},
   "outputs": [
    {
     "data": {
      "text/plain": [
       "134063"
      ]
     },
     "execution_count": 166,
     "metadata": {},
     "output_type": "execute_result"
    }
   ],
   "source": [
    "df_train.groupby(\"hash\")['hash'].unique().count()\n",
    "#print(X_train.loc[0])"
   ]
  },
  {
   "cell_type": "code",
   "execution_count": 6,
   "metadata": {
    "colab": {},
    "colab_type": "code",
    "id": "R41pb0hyV0FB"
   },
   "outputs": [
    {
     "ename": "ValueError",
     "evalue": "negative dimensions are not allowed",
     "output_type": "error",
     "traceback": [
      "\u001b[0;31m---------------------------------------------------------------------------\u001b[0m",
      "\u001b[0;31mValueError\u001b[0m                                Traceback (most recent call last)",
      "\u001b[0;32m<ipython-input-6-3c8dbaa79722>\u001b[0m in \u001b[0;36m<module>\u001b[0;34m()\u001b[0m\n\u001b[1;32m      3\u001b[0m \u001b[0mdf_test_mulr\u001b[0m \u001b[0;34m=\u001b[0m \u001b[0mdf_test_mulr\u001b[0m\u001b[0;34m.\u001b[0m\u001b[0mfillna\u001b[0m\u001b[0;34m(\u001b[0m\u001b[0;36m0\u001b[0m\u001b[0;34m)\u001b[0m\u001b[0;34m\u001b[0m\u001b[0m\n\u001b[1;32m      4\u001b[0m \u001b[0;34m\u001b[0m\u001b[0m\n\u001b[0;32m----> 5\u001b[0;31m \u001b[0mX_test_left\u001b[0m \u001b[0;34m=\u001b[0m \u001b[0mstacking_no_y_left\u001b[0m\u001b[0;34m(\u001b[0m\u001b[0mdf_test_mulr\u001b[0m\u001b[0;34m)\u001b[0m\u001b[0;34m\u001b[0m\u001b[0m\n\u001b[0m\u001b[1;32m      6\u001b[0m \u001b[0mX_test_left\u001b[0m \u001b[0;34m=\u001b[0m \u001b[0mpd\u001b[0m\u001b[0;34m.\u001b[0m\u001b[0mDataFrame\u001b[0m\u001b[0;34m(\u001b[0m\u001b[0mX_test_left\u001b[0m\u001b[0;34m)\u001b[0m\u001b[0;34m\u001b[0m\u001b[0m\n\u001b[1;32m      7\u001b[0m \u001b[0mX_test_left\u001b[0m\u001b[0;34m.\u001b[0m\u001b[0mto_csv\u001b[0m\u001b[0;34m(\u001b[0m\u001b[0;34m'X_test_left.csv'\u001b[0m\u001b[0;34m)\u001b[0m\u001b[0;34m\u001b[0m\u001b[0m\n",
      "\u001b[0;32m<ipython-input-1-6ec86689ff2a>\u001b[0m in \u001b[0;36mstacking_no_y_left\u001b[0;34m(df)\u001b[0m\n\u001b[1;32m     65\u001b[0m \u001b[0;34m\u001b[0m\u001b[0m\n\u001b[1;32m     66\u001b[0m     \u001b[0mnum_pad\u001b[0m \u001b[0;34m=\u001b[0m \u001b[0mmax_length\u001b[0m \u001b[0;34m-\u001b[0m \u001b[0mnp\u001b[0m\u001b[0;34m.\u001b[0m\u001b[0mshape\u001b[0m\u001b[0;34m(\u001b[0m\u001b[0mhash_\u001b[0m\u001b[0;34m)\u001b[0m\u001b[0;34m[\u001b[0m\u001b[0;36m0\u001b[0m\u001b[0;34m]\u001b[0m \u001b[0;31m# padding with 0s\u001b[0m\u001b[0;34m\u001b[0m\u001b[0m\n\u001b[0;32m---> 67\u001b[0;31m     \u001b[0mhash_\u001b[0m \u001b[0;34m=\u001b[0m \u001b[0mnp\u001b[0m\u001b[0;34m.\u001b[0m\u001b[0mappend\u001b[0m\u001b[0;34m(\u001b[0m\u001b[0mnp\u001b[0m\u001b[0;34m.\u001b[0m\u001b[0mzeros\u001b[0m\u001b[0;34m(\u001b[0m\u001b[0mnum_pad\u001b[0m\u001b[0;34m)\u001b[0m\u001b[0;34m,\u001b[0m\u001b[0mhash_\u001b[0m\u001b[0;34m)\u001b[0m\u001b[0;34m\u001b[0m\u001b[0m\n\u001b[0m\u001b[1;32m     68\u001b[0m \u001b[0;34m\u001b[0m\u001b[0m\n\u001b[1;32m     69\u001b[0m     \u001b[0mX\u001b[0m \u001b[0;34m=\u001b[0m \u001b[0mnp\u001b[0m\u001b[0;34m.\u001b[0m\u001b[0mr_\u001b[0m\u001b[0;34m[\u001b[0m\u001b[0mX\u001b[0m\u001b[0;34m,\u001b[0m\u001b[0mnp\u001b[0m\u001b[0;34m.\u001b[0m\u001b[0marray\u001b[0m\u001b[0;34m(\u001b[0m\u001b[0;34m[\u001b[0m\u001b[0mhash_\u001b[0m\u001b[0;34m]\u001b[0m\u001b[0;34m)\u001b[0m\u001b[0;34m]\u001b[0m \u001b[0;31m# changing dimemsions of hash_\u001b[0m\u001b[0;34m\u001b[0m\u001b[0m\n",
      "\u001b[0;31mValueError\u001b[0m: negative dimensions are not allowed"
     ]
    }
   ],
   "source": [
    "max_length = max(df_train.groupby(\"hash\").nunique()[\"trajectory_id\"])*10-2\n",
    "df_test_mulr = df_test\n",
    "df_test_mulr = df_test_mulr.fillna(0)\n",
    "\n",
    "X_test_left = stacking_no_y_left(df_test_mulr)\n",
    "X_test_left = pd.DataFrame(X_test_left)\n",
    "X_test_left.to_csv('X_test_left.csv')\n",
    "#files.download('X_test.csv')"
   ]
  },
  {
   "cell_type": "code",
   "execution_count": 160,
   "metadata": {},
   "outputs": [
    {
     "data": {
      "text/plain": [
       "33515"
      ]
     },
     "execution_count": 160,
     "metadata": {},
     "output_type": "execute_result"
    }
   ],
   "source": [
    "df_test.groupby(\"hash\")['hash'].unique().count()"
   ]
  },
  {
   "cell_type": "markdown",
   "metadata": {},
   "source": [
    "## Different models"
   ]
  },
  {
   "cell_type": "code",
   "execution_count": 11,
   "metadata": {},
   "outputs": [],
   "source": [
    "X_train = pd.read_csv('X_train.csv',index_col=0)\n",
    "y_train = pd.read_csv('y_train.csv',index_col=0)\n",
    "\n",
    "X_train = pd.DataFrame(X_train.loc[0:2000])\n",
    "y_train = pd.DataFrame(y_train.loc[0:2000])"
   ]
  },
  {
   "cell_type": "code",
   "execution_count": 14,
   "metadata": {
    "collapsed": true
   },
   "outputs": [
    {
     "name": "stderr",
     "output_type": "stream",
     "text": [
      "[Parallel(n_jobs=1)]: Done 200 out of 200 | elapsed:   10.9s finished\n",
      "[Parallel(n_jobs=1)]: Done 200 out of 200 | elapsed:   10.4s finished\n",
      "[Parallel(n_jobs=1)]: Done 200 out of 200 | elapsed:    0.0s finished\n",
      "[Parallel(n_jobs=1)]: Done 200 out of 200 | elapsed:    0.0s finished\n"
     ]
    },
    {
     "ename": "KeyError",
     "evalue": "0",
     "output_type": "error",
     "traceback": [
      "\u001b[0;31m---------------------------------------------------------------------------\u001b[0m",
      "\u001b[0;31mKeyError\u001b[0m                                  Traceback (most recent call last)",
      "\u001b[0;32m~/anaconda3/lib/python3.5/site-packages/pandas/core/indexes/base.py\u001b[0m in \u001b[0;36mget_loc\u001b[0;34m(self, key, method, tolerance)\u001b[0m\n\u001b[1;32m   3062\u001b[0m             \u001b[0;32mtry\u001b[0m\u001b[0;34m:\u001b[0m\u001b[0;34m\u001b[0m\u001b[0m\n\u001b[0;32m-> 3063\u001b[0;31m                 \u001b[0;32mreturn\u001b[0m \u001b[0mself\u001b[0m\u001b[0;34m.\u001b[0m\u001b[0m_engine\u001b[0m\u001b[0;34m.\u001b[0m\u001b[0mget_loc\u001b[0m\u001b[0;34m(\u001b[0m\u001b[0mkey\u001b[0m\u001b[0;34m)\u001b[0m\u001b[0;34m\u001b[0m\u001b[0m\n\u001b[0m\u001b[1;32m   3064\u001b[0m             \u001b[0;32mexcept\u001b[0m \u001b[0mKeyError\u001b[0m\u001b[0;34m:\u001b[0m\u001b[0;34m\u001b[0m\u001b[0m\n",
      "\u001b[0;32mpandas/_libs/index.pyx\u001b[0m in \u001b[0;36mpandas._libs.index.IndexEngine.get_loc\u001b[0;34m()\u001b[0m\n",
      "\u001b[0;32mpandas/_libs/index.pyx\u001b[0m in \u001b[0;36mpandas._libs.index.IndexEngine.get_loc\u001b[0;34m()\u001b[0m\n",
      "\u001b[0;32mpandas/_libs/hashtable_class_helper.pxi\u001b[0m in \u001b[0;36mpandas._libs.hashtable.PyObjectHashTable.get_item\u001b[0;34m()\u001b[0m\n",
      "\u001b[0;32mpandas/_libs/hashtable_class_helper.pxi\u001b[0m in \u001b[0;36mpandas._libs.hashtable.PyObjectHashTable.get_item\u001b[0;34m()\u001b[0m\n",
      "\u001b[0;31mKeyError\u001b[0m: 0",
      "\nDuring handling of the above exception, another exception occurred:\n",
      "\u001b[0;31mKeyError\u001b[0m                                  Traceback (most recent call last)",
      "\u001b[0;32m<ipython-input-14-7ed5c4051cd9>\u001b[0m in \u001b[0;36m<module>\u001b[0;34m()\u001b[0m\n\u001b[1;32m     14\u001b[0m \u001b[0;34m\u001b[0m\u001b[0m\n\u001b[1;32m     15\u001b[0m \u001b[0;31m# accuracy\u001b[0m\u001b[0;34m\u001b[0m\u001b[0;34m\u001b[0m\u001b[0m\n\u001b[0;32m---> 16\u001b[0;31m \u001b[0mprint\u001b[0m \u001b[0;34m(\u001b[0m\u001b[0mclassification_report\u001b[0m\u001b[0;34m(\u001b[0m\u001b[0mcity\u001b[0m\u001b[0;34m(\u001b[0m\u001b[0my_test\u001b[0m\u001b[0;34m)\u001b[0m\u001b[0;34m,\u001b[0m \u001b[0mcity\u001b[0m\u001b[0;34m(\u001b[0m\u001b[0my_multirf\u001b[0m\u001b[0;34m)\u001b[0m\u001b[0;34m,\u001b[0m\u001b[0mdigits\u001b[0m \u001b[0;34m=\u001b[0m \u001b[0;36m4\u001b[0m\u001b[0;34m)\u001b[0m\u001b[0;34m)\u001b[0m\u001b[0;34m\u001b[0m\u001b[0m\n\u001b[0m\u001b[1;32m     17\u001b[0m \u001b[0mprint\u001b[0m \u001b[0;34m(\u001b[0m\u001b[0mconfusion_matrix\u001b[0m\u001b[0;34m(\u001b[0m\u001b[0mcity\u001b[0m\u001b[0;34m(\u001b[0m\u001b[0my_test\u001b[0m\u001b[0;34m)\u001b[0m\u001b[0;34m,\u001b[0m \u001b[0mcity\u001b[0m\u001b[0;34m(\u001b[0m\u001b[0my_multirf\u001b[0m\u001b[0;34m)\u001b[0m\u001b[0;34m)\u001b[0m\u001b[0;34m)\u001b[0m\u001b[0;34m\u001b[0m\u001b[0m\n\u001b[1;32m     18\u001b[0m \u001b[0mprint\u001b[0m \u001b[0;34m(\u001b[0m\u001b[0maccuracy_score\u001b[0m\u001b[0;34m(\u001b[0m\u001b[0mcity\u001b[0m\u001b[0;34m(\u001b[0m\u001b[0my_test\u001b[0m\u001b[0;34m)\u001b[0m\u001b[0;34m,\u001b[0m \u001b[0mcity\u001b[0m\u001b[0;34m(\u001b[0m\u001b[0my_multirf\u001b[0m\u001b[0;34m)\u001b[0m\u001b[0;34m)\u001b[0m\u001b[0;34m)\u001b[0m\u001b[0;34m\u001b[0m\u001b[0m\n",
      "\u001b[0;32m<ipython-input-13-40f53bf48b23>\u001b[0m in \u001b[0;36mcity\u001b[0;34m(y)\u001b[0m\n\u001b[1;32m     46\u001b[0m     \u001b[0mcity\u001b[0m \u001b[0;34m=\u001b[0m \u001b[0mnp\u001b[0m\u001b[0;34m.\u001b[0m\u001b[0marray\u001b[0m\u001b[0;34m(\u001b[0m\u001b[0;34m[\u001b[0m\u001b[0;34m[\u001b[0m\u001b[0;34m]\u001b[0m\u001b[0;34m]\u001b[0m\u001b[0;34m)\u001b[0m\u001b[0;34m\u001b[0m\u001b[0m\n\u001b[1;32m     47\u001b[0m     \u001b[0;32mfor\u001b[0m \u001b[0mi\u001b[0m \u001b[0;32min\u001b[0m \u001b[0mrange\u001b[0m\u001b[0;34m(\u001b[0m\u001b[0mnp\u001b[0m\u001b[0;34m.\u001b[0m\u001b[0mshape\u001b[0m\u001b[0;34m(\u001b[0m\u001b[0my\u001b[0m\u001b[0;34m)\u001b[0m\u001b[0;34m[\u001b[0m\u001b[0;36m0\u001b[0m\u001b[0;34m]\u001b[0m\u001b[0;34m)\u001b[0m\u001b[0;34m:\u001b[0m\u001b[0;34m\u001b[0m\u001b[0m\n\u001b[0;32m---> 48\u001b[0;31m         \u001b[0;32mif\u001b[0m \u001b[0my\u001b[0m\u001b[0;34m[\u001b[0m\u001b[0mi\u001b[0m\u001b[0;34m]\u001b[0m\u001b[0;34m[\u001b[0m\u001b[0;36m0\u001b[0m\u001b[0;34m]\u001b[0m \u001b[0;34m>\u001b[0m \u001b[0;36m3750901.5068\u001b[0m \u001b[0;32mand\u001b[0m \u001b[0my\u001b[0m\u001b[0;34m[\u001b[0m\u001b[0mi\u001b[0m\u001b[0;34m]\u001b[0m\u001b[0;34m[\u001b[0m\u001b[0;36m0\u001b[0m\u001b[0;34m]\u001b[0m \u001b[0;34m<\u001b[0m \u001b[0;36m3770901.5068\u001b[0m \u001b[0;32mand\u001b[0m \u001b[0my\u001b[0m\u001b[0;34m[\u001b[0m\u001b[0mi\u001b[0m\u001b[0;34m]\u001b[0m\u001b[0;34m[\u001b[0m\u001b[0;36m1\u001b[0m\u001b[0;34m]\u001b[0m \u001b[0;34m>\u001b[0m \u001b[0;34m-\u001b[0m\u001b[0;36m19268905.6133\u001b[0m \u001b[0;32mand\u001b[0m \u001b[0my\u001b[0m\u001b[0;34m[\u001b[0m\u001b[0mi\u001b[0m\u001b[0;34m]\u001b[0m\u001b[0;34m[\u001b[0m\u001b[0;36m1\u001b[0m\u001b[0;34m]\u001b[0m \u001b[0;34m<\u001b[0m \u001b[0;34m-\u001b[0m\u001b[0;36m19208905.6133\u001b[0m\u001b[0;34m:\u001b[0m\u001b[0;34m\u001b[0m\u001b[0m\n\u001b[0m\u001b[1;32m     49\u001b[0m             \u001b[0mcity\u001b[0m \u001b[0;34m=\u001b[0m \u001b[0mnp\u001b[0m\u001b[0;34m.\u001b[0m\u001b[0mappend\u001b[0m\u001b[0;34m(\u001b[0m\u001b[0mcity\u001b[0m\u001b[0;34m,\u001b[0m\u001b[0;36m1\u001b[0m\u001b[0;34m)\u001b[0m\u001b[0;34m\u001b[0m\u001b[0m\n\u001b[1;32m     50\u001b[0m         \u001b[0;32melse\u001b[0m\u001b[0;34m:\u001b[0m\u001b[0;34m\u001b[0m\u001b[0m\n",
      "\u001b[0;32m~/anaconda3/lib/python3.5/site-packages/pandas/core/frame.py\u001b[0m in \u001b[0;36m__getitem__\u001b[0;34m(self, key)\u001b[0m\n\u001b[1;32m   2683\u001b[0m             \u001b[0;32mreturn\u001b[0m \u001b[0mself\u001b[0m\u001b[0;34m.\u001b[0m\u001b[0m_getitem_multilevel\u001b[0m\u001b[0;34m(\u001b[0m\u001b[0mkey\u001b[0m\u001b[0;34m)\u001b[0m\u001b[0;34m\u001b[0m\u001b[0m\n\u001b[1;32m   2684\u001b[0m         \u001b[0;32melse\u001b[0m\u001b[0;34m:\u001b[0m\u001b[0;34m\u001b[0m\u001b[0m\n\u001b[0;32m-> 2685\u001b[0;31m             \u001b[0;32mreturn\u001b[0m \u001b[0mself\u001b[0m\u001b[0;34m.\u001b[0m\u001b[0m_getitem_column\u001b[0m\u001b[0;34m(\u001b[0m\u001b[0mkey\u001b[0m\u001b[0;34m)\u001b[0m\u001b[0;34m\u001b[0m\u001b[0m\n\u001b[0m\u001b[1;32m   2686\u001b[0m \u001b[0;34m\u001b[0m\u001b[0m\n\u001b[1;32m   2687\u001b[0m     \u001b[0;32mdef\u001b[0m \u001b[0m_getitem_column\u001b[0m\u001b[0;34m(\u001b[0m\u001b[0mself\u001b[0m\u001b[0;34m,\u001b[0m \u001b[0mkey\u001b[0m\u001b[0;34m)\u001b[0m\u001b[0;34m:\u001b[0m\u001b[0;34m\u001b[0m\u001b[0m\n",
      "\u001b[0;32m~/anaconda3/lib/python3.5/site-packages/pandas/core/frame.py\u001b[0m in \u001b[0;36m_getitem_column\u001b[0;34m(self, key)\u001b[0m\n\u001b[1;32m   2690\u001b[0m         \u001b[0;31m# get column\u001b[0m\u001b[0;34m\u001b[0m\u001b[0;34m\u001b[0m\u001b[0m\n\u001b[1;32m   2691\u001b[0m         \u001b[0;32mif\u001b[0m \u001b[0mself\u001b[0m\u001b[0;34m.\u001b[0m\u001b[0mcolumns\u001b[0m\u001b[0;34m.\u001b[0m\u001b[0mis_unique\u001b[0m\u001b[0;34m:\u001b[0m\u001b[0;34m\u001b[0m\u001b[0m\n\u001b[0;32m-> 2692\u001b[0;31m             \u001b[0;32mreturn\u001b[0m \u001b[0mself\u001b[0m\u001b[0;34m.\u001b[0m\u001b[0m_get_item_cache\u001b[0m\u001b[0;34m(\u001b[0m\u001b[0mkey\u001b[0m\u001b[0;34m)\u001b[0m\u001b[0;34m\u001b[0m\u001b[0m\n\u001b[0m\u001b[1;32m   2693\u001b[0m \u001b[0;34m\u001b[0m\u001b[0m\n\u001b[1;32m   2694\u001b[0m         \u001b[0;31m# duplicate columns & possible reduce dimensionality\u001b[0m\u001b[0;34m\u001b[0m\u001b[0;34m\u001b[0m\u001b[0m\n",
      "\u001b[0;32m~/anaconda3/lib/python3.5/site-packages/pandas/core/generic.py\u001b[0m in \u001b[0;36m_get_item_cache\u001b[0;34m(self, item)\u001b[0m\n\u001b[1;32m   2484\u001b[0m         \u001b[0mres\u001b[0m \u001b[0;34m=\u001b[0m \u001b[0mcache\u001b[0m\u001b[0;34m.\u001b[0m\u001b[0mget\u001b[0m\u001b[0;34m(\u001b[0m\u001b[0mitem\u001b[0m\u001b[0;34m)\u001b[0m\u001b[0;34m\u001b[0m\u001b[0m\n\u001b[1;32m   2485\u001b[0m         \u001b[0;32mif\u001b[0m \u001b[0mres\u001b[0m \u001b[0;32mis\u001b[0m \u001b[0;32mNone\u001b[0m\u001b[0;34m:\u001b[0m\u001b[0;34m\u001b[0m\u001b[0m\n\u001b[0;32m-> 2486\u001b[0;31m             \u001b[0mvalues\u001b[0m \u001b[0;34m=\u001b[0m \u001b[0mself\u001b[0m\u001b[0;34m.\u001b[0m\u001b[0m_data\u001b[0m\u001b[0;34m.\u001b[0m\u001b[0mget\u001b[0m\u001b[0;34m(\u001b[0m\u001b[0mitem\u001b[0m\u001b[0;34m)\u001b[0m\u001b[0;34m\u001b[0m\u001b[0m\n\u001b[0m\u001b[1;32m   2487\u001b[0m             \u001b[0mres\u001b[0m \u001b[0;34m=\u001b[0m \u001b[0mself\u001b[0m\u001b[0;34m.\u001b[0m\u001b[0m_box_item_values\u001b[0m\u001b[0;34m(\u001b[0m\u001b[0mitem\u001b[0m\u001b[0;34m,\u001b[0m \u001b[0mvalues\u001b[0m\u001b[0;34m)\u001b[0m\u001b[0;34m\u001b[0m\u001b[0m\n\u001b[1;32m   2488\u001b[0m             \u001b[0mcache\u001b[0m\u001b[0;34m[\u001b[0m\u001b[0mitem\u001b[0m\u001b[0;34m]\u001b[0m \u001b[0;34m=\u001b[0m \u001b[0mres\u001b[0m\u001b[0;34m\u001b[0m\u001b[0m\n",
      "\u001b[0;32m~/anaconda3/lib/python3.5/site-packages/pandas/core/internals.py\u001b[0m in \u001b[0;36mget\u001b[0;34m(self, item, fastpath)\u001b[0m\n\u001b[1;32m   4113\u001b[0m \u001b[0;34m\u001b[0m\u001b[0m\n\u001b[1;32m   4114\u001b[0m             \u001b[0;32mif\u001b[0m \u001b[0;32mnot\u001b[0m \u001b[0misna\u001b[0m\u001b[0;34m(\u001b[0m\u001b[0mitem\u001b[0m\u001b[0;34m)\u001b[0m\u001b[0;34m:\u001b[0m\u001b[0;34m\u001b[0m\u001b[0m\n\u001b[0;32m-> 4115\u001b[0;31m                 \u001b[0mloc\u001b[0m \u001b[0;34m=\u001b[0m \u001b[0mself\u001b[0m\u001b[0;34m.\u001b[0m\u001b[0mitems\u001b[0m\u001b[0;34m.\u001b[0m\u001b[0mget_loc\u001b[0m\u001b[0;34m(\u001b[0m\u001b[0mitem\u001b[0m\u001b[0;34m)\u001b[0m\u001b[0;34m\u001b[0m\u001b[0m\n\u001b[0m\u001b[1;32m   4116\u001b[0m             \u001b[0;32melse\u001b[0m\u001b[0;34m:\u001b[0m\u001b[0;34m\u001b[0m\u001b[0m\n\u001b[1;32m   4117\u001b[0m                 \u001b[0mindexer\u001b[0m \u001b[0;34m=\u001b[0m \u001b[0mnp\u001b[0m\u001b[0;34m.\u001b[0m\u001b[0marange\u001b[0m\u001b[0;34m(\u001b[0m\u001b[0mlen\u001b[0m\u001b[0;34m(\u001b[0m\u001b[0mself\u001b[0m\u001b[0;34m.\u001b[0m\u001b[0mitems\u001b[0m\u001b[0;34m)\u001b[0m\u001b[0;34m)\u001b[0m\u001b[0;34m[\u001b[0m\u001b[0misna\u001b[0m\u001b[0;34m(\u001b[0m\u001b[0mself\u001b[0m\u001b[0;34m.\u001b[0m\u001b[0mitems\u001b[0m\u001b[0;34m)\u001b[0m\u001b[0;34m]\u001b[0m\u001b[0;34m\u001b[0m\u001b[0m\n",
      "\u001b[0;32m~/anaconda3/lib/python3.5/site-packages/pandas/core/indexes/base.py\u001b[0m in \u001b[0;36mget_loc\u001b[0;34m(self, key, method, tolerance)\u001b[0m\n\u001b[1;32m   3063\u001b[0m                 \u001b[0;32mreturn\u001b[0m \u001b[0mself\u001b[0m\u001b[0;34m.\u001b[0m\u001b[0m_engine\u001b[0m\u001b[0;34m.\u001b[0m\u001b[0mget_loc\u001b[0m\u001b[0;34m(\u001b[0m\u001b[0mkey\u001b[0m\u001b[0;34m)\u001b[0m\u001b[0;34m\u001b[0m\u001b[0m\n\u001b[1;32m   3064\u001b[0m             \u001b[0;32mexcept\u001b[0m \u001b[0mKeyError\u001b[0m\u001b[0;34m:\u001b[0m\u001b[0;34m\u001b[0m\u001b[0m\n\u001b[0;32m-> 3065\u001b[0;31m                 \u001b[0;32mreturn\u001b[0m \u001b[0mself\u001b[0m\u001b[0;34m.\u001b[0m\u001b[0m_engine\u001b[0m\u001b[0;34m.\u001b[0m\u001b[0mget_loc\u001b[0m\u001b[0;34m(\u001b[0m\u001b[0mself\u001b[0m\u001b[0;34m.\u001b[0m\u001b[0m_maybe_cast_indexer\u001b[0m\u001b[0;34m(\u001b[0m\u001b[0mkey\u001b[0m\u001b[0;34m)\u001b[0m\u001b[0;34m)\u001b[0m\u001b[0;34m\u001b[0m\u001b[0m\n\u001b[0m\u001b[1;32m   3066\u001b[0m \u001b[0;34m\u001b[0m\u001b[0m\n\u001b[1;32m   3067\u001b[0m         \u001b[0mindexer\u001b[0m \u001b[0;34m=\u001b[0m \u001b[0mself\u001b[0m\u001b[0;34m.\u001b[0m\u001b[0mget_indexer\u001b[0m\u001b[0;34m(\u001b[0m\u001b[0;34m[\u001b[0m\u001b[0mkey\u001b[0m\u001b[0;34m]\u001b[0m\u001b[0;34m,\u001b[0m \u001b[0mmethod\u001b[0m\u001b[0;34m=\u001b[0m\u001b[0mmethod\u001b[0m\u001b[0;34m,\u001b[0m \u001b[0mtolerance\u001b[0m\u001b[0;34m=\u001b[0m\u001b[0mtolerance\u001b[0m\u001b[0;34m)\u001b[0m\u001b[0;34m\u001b[0m\u001b[0m\n",
      "\u001b[0;32mpandas/_libs/index.pyx\u001b[0m in \u001b[0;36mpandas._libs.index.IndexEngine.get_loc\u001b[0;34m()\u001b[0m\n",
      "\u001b[0;32mpandas/_libs/index.pyx\u001b[0m in \u001b[0;36mpandas._libs.index.IndexEngine.get_loc\u001b[0;34m()\u001b[0m\n",
      "\u001b[0;32mpandas/_libs/hashtable_class_helper.pxi\u001b[0m in \u001b[0;36mpandas._libs.hashtable.PyObjectHashTable.get_item\u001b[0;34m()\u001b[0m\n",
      "\u001b[0;32mpandas/_libs/hashtable_class_helper.pxi\u001b[0m in \u001b[0;36mpandas._libs.hashtable.PyObjectHashTable.get_item\u001b[0;34m()\u001b[0m\n",
      "\u001b[0;31mKeyError\u001b[0m: 0"
     ]
    }
   ],
   "source": [
    "# spliting test/train data \n",
    "train_size = int(0.8*np.shape(X_train)[0])\n",
    "test_size = np.shape(X_train)[0]-train_size\n",
    "X_train, X_test, y_train, y_test = train_test_split(\n",
    "    X_train, y_train, train_size=train_size, test_size=test_size, random_state=4)\n",
    "\n",
    "\n",
    "# random forest\n",
    "regr_multirf = MultiOutputRegressor(RandomForestRegressor(n_estimators=200,max_depth=100,random_state=0,verbose=True))\n",
    "regr_multirf.fit(X_train, y_train)\n",
    "\n",
    "# Predict on new data\n",
    "y_multirf = regr_multirf.predict(X_test)\n",
    "\n",
    "# accuracy \n",
    "print (classification_report(city(y_test), city(y_multirf),digits = 4))\n",
    "print (confusion_matrix(city(y_test), city(y_multirf)))\n",
    "print (accuracy_score(city(y_test), city(y_multirf)))\n",
    "\n",
    "# plotting \n",
    "plt.figure()\n",
    "s = 20\n",
    "a = 0.8\n",
    "fig = plt.figure()\n",
    "ax = fig.add_subplot(111)\n",
    "ax.scatter(y_multirf[:, 0], y_multirf[:, 1], edgecolor='k',\n",
    "            c=\"navy\", s=s, marker=\"s\", alpha=a, label=\"Data\")\n",
    "ax.scatter(y_test[:, 0], y_test[:, 1], edgecolor='k',\n",
    "            c=\"red\", s=s, marker=\"s\", alpha=a, label=\"Data\")\n",
    "rect = patches.Rectangle((3750901.5068,-19268905.6133),20000,60000,linewidth=1,edgecolor='r',facecolor='none')\n",
    "ax.add_patch(rect)\n",
    "plt.show()"
   ]
  },
  {
   "cell_type": "code",
   "execution_count": null,
   "metadata": {},
   "outputs": [],
   "source": [
    "# gradient boosting \n",
    "regr_multigbr = MultiOutputRegressor(GradientBoostingRegressor(n_estimators=200,max_depth=100,random_state=0))\n",
    "regr_multigbr.fit(X_mulr, y_mulr)\n",
    "\n",
    "# Predict on new data\n",
    "y_multigbr = regr_multigbr.predict(X_test)\n"
   ]
  },
  {
   "cell_type": "markdown",
   "metadata": {
    "colab_type": "text",
    "id": "Iejcs26y8sal"
   },
   "source": [
    "## using minibatch"
   ]
  },
  {
   "cell_type": "code",
   "execution_count": 0,
   "metadata": {
    "colab": {},
    "colab_type": "code",
    "id": "Rf16LU0O8vTm"
   },
   "outputs": [],
   "source": [
    "from sklearn.linear_model import SGDRegressor\n",
    " \n",
    "def iter_minibatches(chunksize):\n",
    "    # Provide chunks one by one\n",
    "  chunkstartmarker = 0\n",
    "  while chunkstartmarker < numtrainingpoints:\n",
    "    chunkrows = range(chunkstartmarker,chunkstartmarker+chunksize)\n",
    "    X_chunk, y_chunk = getrows(chunkrows)\n",
    "    yield X_chunk, y_chunk\n",
    "    chunkstartmarker += chunksize\n",
    "\n",
    "def main():\n",
    "  batcherator = iter_minibatches(chunksize=1000)\n",
    "  model = SGDRegressor()\n",
    " # Train model\n",
    "  for X_chunk, y_chunk in batcherator:\n",
    "    model.partial_fit(X_chunk, y_chunk)\n",
    " # Now make predictions with trained model\n",
    "  y_predicted = model.predict(X_test)"
   ]
  },
  {
   "cell_type": "markdown",
   "metadata": {
    "colab_type": "text",
    "id": "598a1so95rn4"
   },
   "source": [
    "### fitting ey test data with no output"
   ]
  },
  {
   "cell_type": "code",
   "execution_count": 0,
   "metadata": {
    "colab": {},
    "colab_type": "code",
    "id": "AiL2xPpcyTLf"
   },
   "outputs": [],
   "source": [
    "X_test = pd.read_csv('X_test.csv',index_col=0)\n",
    "X_test = pd.DataFrame(X_test)\n",
    "y_multi = regr_multirf.predict(X_test)\n",
    "# downloading results\n",
    "result = pd.DataFrame(city(y_multi))\n",
    "result.to_csv('result.csv')"
   ]
  },
  {
   "cell_type": "code",
   "execution_count": 0,
   "metadata": {
    "colab": {},
    "colab_type": "code",
    "id": "sIsadLKq0UnP"
   },
   "outputs": [],
   "source": []
  },
  {
   "cell_type": "code",
   "execution_count": 0,
   "metadata": {
    "colab": {},
    "colab_type": "code",
    "id": "oyHSR6TEV2ru"
   },
   "outputs": [],
   "source": []
  }
 ],
 "metadata": {
  "accelerator": "TPU",
  "colab": {
   "collapsed_sections": [],
   "name": "new testingsh.ipynb",
   "provenance": [],
   "version": "0.3.2"
  },
  "kernelspec": {
   "display_name": "Python 3",
   "language": "python",
   "name": "python3"
  },
  "language_info": {
   "codemirror_mode": {
    "name": "ipython",
    "version": 3
   },
   "file_extension": ".py",
   "mimetype": "text/x-python",
   "name": "python",
   "nbconvert_exporter": "python",
   "pygments_lexer": "ipython3",
   "version": "3.5.5"
  }
 },
 "nbformat": 4,
 "nbformat_minor": 1
}

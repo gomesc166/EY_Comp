{
 "cells": [
  {
   "cell_type": "markdown",
   "metadata": {},
   "source": [
    "# EY Data Science Challenge 2019"
   ]
  },
  {
   "cell_type": "markdown",
   "metadata": {},
   "source": [
    "# Feature Engineering - Flattening Trajectory Sequences\n",
    "\n",
    "The feature engineering in this script is basic. It falttens the arbitrary length lists of trajectories for each hash code into a single row by taking information from the first and last trajectories, and discarding any that occur between them."
   ]
  },
  {
   "cell_type": "code",
   "execution_count": 176,
   "metadata": {},
   "outputs": [],
   "source": [
    "import pandas as pd\n",
    "import numpy as np"
   ]
  },
  {
   "cell_type": "markdown",
   "metadata": {},
   "source": [
    "## Read in the train raw data"
   ]
  },
  {
   "cell_type": "code",
   "execution_count": 178,
   "metadata": {},
   "outputs": [],
   "source": [
    "dtype = {\n",
    "    \"vmax\" : np.float64,\n",
    "    \"vmin\" : np.float64,\n",
    "    \"vmean\" : np.float64,\n",
    "    \"x_entry\" : np.float64,\n",
    "    \"y_entry\" : np.float64,\n",
    "    \"x_exit\" : np.float64,\n",
    "    \"y_exit\" : np.float64\n",
    "}"
   ]
  },
  {
   "cell_type": "code",
   "execution_count": 179,
   "metadata": {},
   "outputs": [],
   "source": [
    "# read in the training data\n",
    "train = pd.read_csv(\"data/data_train.csv\", dtype=dtype, index_col=0)\n",
    "train['time_entry'] = pd.to_datetime(train['time_entry'])\n",
    "train['time_exit'] = pd.to_datetime(train['time_exit'])"
   ]
  },
  {
   "cell_type": "code",
   "execution_count": 180,
   "metadata": {},
   "outputs": [],
   "source": [
    "# find all hash groups with only 1 trajectory\n",
    "hash_groups = train[[\"hash\", \"trajectory_id\"]].groupby(\"hash\").agg(\"count\")\n",
    "single_trajectory_groups = hash_groups[ hash_groups[\"trajectory_id\"] <= 1 ]\n",
    "single_trajectory_hashes = list(single_trajectory_groups.index)"
   ]
  },
  {
   "cell_type": "code",
   "execution_count": 181,
   "metadata": {},
   "outputs": [],
   "source": [
    "# print out the trajectories belonging to the single hashes\n",
    "train = train[ ~train[\"hash\"].isin(single_trajectory_hashes) ].reset_index()"
   ]
  },
  {
   "cell_type": "markdown",
   "metadata": {},
   "source": [
    "## Feature engineering"
   ]
  },
  {
   "cell_type": "code",
   "execution_count": 182,
   "metadata": {},
   "outputs": [],
   "source": [
    "def in_center(x, y):\n",
    "    \"\"\"\n",
    "    Used to generate the binary label over the training data.\n",
    "    \"\"\"\n",
    "    center_lat_min = np.float64(3750901.5068)\n",
    "    center_lat_max = np.float64(3770901.5068)\n",
    "    center_lon_min = np.float64(-19268905.6133)\n",
    "    center_lon_max = np.float64(-19208905.6133)\n",
    "    return (center_lat_min <= x <= center_lat_max) and\\\n",
    "           (center_lon_min <= y <= center_lon_max)"
   ]
  },
  {
   "cell_type": "code",
   "execution_count": 183,
   "metadata": {},
   "outputs": [],
   "source": [
    "def compute_seconds_from_midnight(timestamp):\n",
    "    \"\"\"\n",
    "    Converts timestamp into an integer (number of seconds from midnight).\n",
    "    \"\"\"\n",
    "    return timestamp.hour * 3600 + timestamp.minute * 60 + timestamp.second"
   ]
  },
  {
   "cell_type": "code",
   "execution_count": 184,
   "metadata": {},
   "outputs": [],
   "source": [
    "from math import sqrt\n",
    "def compute_average_velocity(x0, y0, t0, x1, y1, t1):\n",
    "    \"\"\"\n",
    "    Computes average velocity (distance / second) over an interval.\n",
    "    \"\"\"\n",
    "    distance = sqrt( (x1-x0)**2 + (y1-y0)**2 )\n",
    "    time = t1 - t0\n",
    "    if time == 0:\n",
    "        return 0\n",
    "    else:\n",
    "        return distance / time"
   ]
  },
  {
   "cell_type": "code",
   "execution_count": 185,
   "metadata": {},
   "outputs": [],
   "source": [
    "def extrapolate_final_destination(x0, y0, x1, y1, t1, vel):\n",
    "    \"\"\"\n",
    "    Uses linear extrapolation to impute projected x, y coordate.\n",
    "    \"\"\"\n",
    "    end_time = 15 * 3600\n",
    "    seg_length = (end_time - t1) * vel\n",
    "    x_delta = 0\n",
    "    y_delta = 0\n",
    "    x_proj = x1 + x_delta\n",
    "    y_proj = y1 + y_delta\n",
    "    return x_proj, y_proj"
   ]
  },
  {
   "cell_type": "code",
   "execution_count": 186,
   "metadata": {},
   "outputs": [],
   "source": [
    "def process_hash_group(hash_group, is_train=True):\n",
    "    \"\"\"\n",
    "    Feature engineering over the set of trajectories belonging to a single hash group:\n",
    "        (1) Extracts the start coord (x0,y0) from the first trajectory\n",
    "        (2) Extracts the end coord (x1,y1) from the last trajectory\n",
    "        (3) Computes average velocity over the start and end trajectory\n",
    "        (4) Computes extrapolated destination using interpolated trajectory and velocity\n",
    "        (4) TODO: Computes distance between (x1, y1) to the city center\n",
    "        (5) TODO: computes angle between (x1,y1) to the city center\n",
    "        \n",
    "    If is_train=True, then also computes the binary label over the final trajectory in the hash group.\n",
    "    \"\"\"\n",
    "    # dictionary to store engineered features for the hash group\n",
    "    features = {}\n",
    "    \n",
    "    # extract the start and end trajectory from the hash group\n",
    "    start = hash_group.iloc[0]\n",
    "    end = hash_group.iloc[-1]\n",
    "    \n",
    "    features[\"x0\"] = start[\"x_entry\"]\n",
    "    features[\"y0\"] = start[\"y_entry\"]\n",
    "    features[\"t0\"] = compute_seconds_from_midnight(start[\"time_entry\"])\n",
    "    \n",
    "    features[\"x1\"] = end[\"x_exit\"]\n",
    "    features[\"y1\"] = end[\"y_exit\"]\n",
    "    features[\"t1\"] = compute_seconds_from_midnight(end[\"time_exit\"])\n",
    "    \n",
    "    features[\"vel\"] = compute_average_velocity(\n",
    "        features[\"x0\"], features[\"y0\"], features[\"t0\"],\n",
    "        features[\"x1\"], features[\"y1\"], features[\"t1\"]\n",
    "    )\n",
    "    \n",
    "    features[\"x_proj\"], features[\"y_proj\"] = extrapolate_final_destination(\n",
    "        features[\"x0\"], features[\"y0\"],\n",
    "        features[\"x1\"], features[\"y1\"],\n",
    "        features[\"t1\"], features[\"vel\"]\n",
    "    )\n",
    "    \n",
    "    # if training data, check whether hash group ends in the city center\n",
    "    if is_train:\n",
    "        dest = hash_group.iloc[-1]\n",
    "        features[\"in_center\"] = in_center(dest[\"x_exit\"], dest[\"y_exit\"])\n",
    "    \n",
    "    # pandas DataFrame constructor requires dict elements to be lists\n",
    "    for key, value in features.items():\n",
    "        features[key] = [value]\n",
    "    \n",
    "    return pd.DataFrame.from_dict(features)"
   ]
  },
  {
   "cell_type": "markdown",
   "metadata": {},
   "source": [
    "## Main function"
   ]
  },
  {
   "cell_type": "code",
   "execution_count": 187,
   "metadata": {},
   "outputs": [],
   "source": [
    "def process_data(df, is_train=True):\n",
    "    data = pd.DataFrame()\n",
    "    for hs in df[\"hash\"].unique():\n",
    "        hash_group = df[ df[\"hash\"] == hs ]\n",
    "        feature_vector = process_hash_group(hash_group, is_train)\n",
    "        data = data.append(feature_vector, ignore_index=True)\n",
    "    return data"
   ]
  },
  {
   "cell_type": "code",
   "execution_count": 188,
   "metadata": {},
   "outputs": [
    {
     "ename": "KeyboardInterrupt",
     "evalue": "",
     "output_type": "error",
     "traceback": [
      "\u001b[0;31m---------------------------------------------------------------------------\u001b[0m",
      "\u001b[0;31mKeyboardInterrupt\u001b[0m                         Traceback (most recent call last)",
      "\u001b[0;32m<ipython-input-188-2976dfb9ed92>\u001b[0m in \u001b[0;36m<module>\u001b[0;34m()\u001b[0m\n\u001b[0;32m----> 1\u001b[0;31m \u001b[0mtrain_fe\u001b[0m \u001b[0;34m=\u001b[0m \u001b[0mprocess_data\u001b[0m\u001b[0;34m(\u001b[0m\u001b[0mtrain\u001b[0m\u001b[0;34m)\u001b[0m\u001b[0;34m\u001b[0m\u001b[0m\n\u001b[0m",
      "\u001b[0;32m<ipython-input-187-f55a77f03100>\u001b[0m in \u001b[0;36mprocess_data\u001b[0;34m(df, is_train)\u001b[0m\n\u001b[1;32m      2\u001b[0m     \u001b[0mdata\u001b[0m \u001b[0;34m=\u001b[0m \u001b[0mpd\u001b[0m\u001b[0;34m.\u001b[0m\u001b[0mDataFrame\u001b[0m\u001b[0;34m(\u001b[0m\u001b[0;34m)\u001b[0m\u001b[0;34m\u001b[0m\u001b[0m\n\u001b[1;32m      3\u001b[0m     \u001b[0;32mfor\u001b[0m \u001b[0mhs\u001b[0m \u001b[0;32min\u001b[0m \u001b[0mdf\u001b[0m\u001b[0;34m[\u001b[0m\u001b[0;34m\"hash\"\u001b[0m\u001b[0;34m]\u001b[0m\u001b[0;34m.\u001b[0m\u001b[0munique\u001b[0m\u001b[0;34m(\u001b[0m\u001b[0;34m)\u001b[0m\u001b[0;34m:\u001b[0m\u001b[0;34m\u001b[0m\u001b[0m\n\u001b[0;32m----> 4\u001b[0;31m         \u001b[0mhash_group\u001b[0m \u001b[0;34m=\u001b[0m \u001b[0mdf\u001b[0m\u001b[0;34m[\u001b[0m \u001b[0mdf\u001b[0m\u001b[0;34m[\u001b[0m\u001b[0;34m\"hash\"\u001b[0m\u001b[0;34m]\u001b[0m \u001b[0;34m==\u001b[0m \u001b[0mhs\u001b[0m \u001b[0;34m]\u001b[0m\u001b[0;34m\u001b[0m\u001b[0m\n\u001b[0m\u001b[1;32m      5\u001b[0m         \u001b[0mfeature_vector\u001b[0m \u001b[0;34m=\u001b[0m \u001b[0mprocess_hash_group\u001b[0m\u001b[0;34m(\u001b[0m\u001b[0mhash_group\u001b[0m\u001b[0;34m,\u001b[0m \u001b[0mis_train\u001b[0m\u001b[0;34m)\u001b[0m\u001b[0;34m\u001b[0m\u001b[0m\n\u001b[1;32m      6\u001b[0m         \u001b[0mdata\u001b[0m \u001b[0;34m=\u001b[0m \u001b[0mdata\u001b[0m\u001b[0;34m.\u001b[0m\u001b[0mappend\u001b[0m\u001b[0;34m(\u001b[0m\u001b[0mfeature_vector\u001b[0m\u001b[0;34m,\u001b[0m \u001b[0mignore_index\u001b[0m\u001b[0;34m=\u001b[0m\u001b[0;32mTrue\u001b[0m\u001b[0;34m)\u001b[0m\u001b[0;34m\u001b[0m\u001b[0m\n",
      "\u001b[0;32m~/anaconda3/lib/python3.6/site-packages/pandas/core/ops.py\u001b[0m in \u001b[0;36mwrapper\u001b[0;34m(self, other, axis)\u001b[0m\n\u001b[1;32m    877\u001b[0m \u001b[0;34m\u001b[0m\u001b[0m\n\u001b[1;32m    878\u001b[0m             \u001b[0;32mwith\u001b[0m \u001b[0mnp\u001b[0m\u001b[0;34m.\u001b[0m\u001b[0merrstate\u001b[0m\u001b[0;34m(\u001b[0m\u001b[0mall\u001b[0m\u001b[0;34m=\u001b[0m\u001b[0;34m'ignore'\u001b[0m\u001b[0;34m)\u001b[0m\u001b[0;34m:\u001b[0m\u001b[0;34m\u001b[0m\u001b[0m\n\u001b[0;32m--> 879\u001b[0;31m                 \u001b[0mres\u001b[0m \u001b[0;34m=\u001b[0m \u001b[0mna_op\u001b[0m\u001b[0;34m(\u001b[0m\u001b[0mvalues\u001b[0m\u001b[0;34m,\u001b[0m \u001b[0mother\u001b[0m\u001b[0;34m)\u001b[0m\u001b[0;34m\u001b[0m\u001b[0m\n\u001b[0m\u001b[1;32m    880\u001b[0m             \u001b[0;32mif\u001b[0m \u001b[0mis_scalar\u001b[0m\u001b[0;34m(\u001b[0m\u001b[0mres\u001b[0m\u001b[0;34m)\u001b[0m\u001b[0;34m:\u001b[0m\u001b[0;34m\u001b[0m\u001b[0m\n\u001b[1;32m    881\u001b[0m                 raise TypeError('Could not compare {typ} type with Series'\n",
      "\u001b[0;32m~/anaconda3/lib/python3.6/site-packages/pandas/core/ops.py\u001b[0m in \u001b[0;36mna_op\u001b[0;34m(x, y)\u001b[0m\n\u001b[1;32m    781\u001b[0m \u001b[0;34m\u001b[0m\u001b[0m\n\u001b[1;32m    782\u001b[0m         \u001b[0;32mif\u001b[0m \u001b[0mis_object_dtype\u001b[0m\u001b[0;34m(\u001b[0m\u001b[0mx\u001b[0m\u001b[0;34m.\u001b[0m\u001b[0mdtype\u001b[0m\u001b[0;34m)\u001b[0m\u001b[0;34m:\u001b[0m\u001b[0;34m\u001b[0m\u001b[0m\n\u001b[0;32m--> 783\u001b[0;31m             \u001b[0mresult\u001b[0m \u001b[0;34m=\u001b[0m \u001b[0m_comp_method_OBJECT_ARRAY\u001b[0m\u001b[0;34m(\u001b[0m\u001b[0mop\u001b[0m\u001b[0;34m,\u001b[0m \u001b[0mx\u001b[0m\u001b[0;34m,\u001b[0m \u001b[0my\u001b[0m\u001b[0;34m)\u001b[0m\u001b[0;34m\u001b[0m\u001b[0m\n\u001b[0m\u001b[1;32m    784\u001b[0m         \u001b[0;32melse\u001b[0m\u001b[0;34m:\u001b[0m\u001b[0;34m\u001b[0m\u001b[0m\n\u001b[1;32m    785\u001b[0m \u001b[0;34m\u001b[0m\u001b[0m\n",
      "\u001b[0;32m~/anaconda3/lib/python3.6/site-packages/pandas/core/ops.py\u001b[0m in \u001b[0;36m_comp_method_OBJECT_ARRAY\u001b[0;34m(op, x, y)\u001b[0m\n\u001b[1;32m    761\u001b[0m         \u001b[0mresult\u001b[0m \u001b[0;34m=\u001b[0m \u001b[0mlib\u001b[0m\u001b[0;34m.\u001b[0m\u001b[0mvec_compare\u001b[0m\u001b[0;34m(\u001b[0m\u001b[0mx\u001b[0m\u001b[0;34m,\u001b[0m \u001b[0my\u001b[0m\u001b[0;34m,\u001b[0m \u001b[0mop\u001b[0m\u001b[0;34m)\u001b[0m\u001b[0;34m\u001b[0m\u001b[0m\n\u001b[1;32m    762\u001b[0m     \u001b[0;32melse\u001b[0m\u001b[0;34m:\u001b[0m\u001b[0;34m\u001b[0m\u001b[0m\n\u001b[0;32m--> 763\u001b[0;31m         \u001b[0mresult\u001b[0m \u001b[0;34m=\u001b[0m \u001b[0mlib\u001b[0m\u001b[0;34m.\u001b[0m\u001b[0mscalar_compare\u001b[0m\u001b[0;34m(\u001b[0m\u001b[0mx\u001b[0m\u001b[0;34m,\u001b[0m \u001b[0my\u001b[0m\u001b[0;34m,\u001b[0m \u001b[0mop\u001b[0m\u001b[0;34m)\u001b[0m\u001b[0;34m\u001b[0m\u001b[0m\n\u001b[0m\u001b[1;32m    764\u001b[0m     \u001b[0;32mreturn\u001b[0m \u001b[0mresult\u001b[0m\u001b[0;34m\u001b[0m\u001b[0m\n\u001b[1;32m    765\u001b[0m \u001b[0;34m\u001b[0m\u001b[0m\n",
      "\u001b[0;31mKeyboardInterrupt\u001b[0m: "
     ]
    }
   ],
   "source": [
    "train_fe = process_data(train)"
   ]
  },
  {
   "cell_type": "code",
   "execution_count": null,
   "metadata": {},
   "outputs": [],
   "source": [
    "train_fe.to_csv(\"data/data_train_fe.csv\")"
   ]
  },
  {
   "cell_type": "code",
   "execution_count": null,
   "metadata": {},
   "outputs": [],
   "source": []
  }
 ],
 "metadata": {
  "kernelspec": {
   "display_name": "Python 3",
   "language": "python",
   "name": "python3"
  },
  "language_info": {
   "codemirror_mode": {
    "name": "ipython",
    "version": 3
   },
   "file_extension": ".py",
   "mimetype": "text/x-python",
   "name": "python",
   "nbconvert_exporter": "python",
   "pygments_lexer": "ipython3",
   "version": "3.6.4"
  }
 },
 "nbformat": 4,
 "nbformat_minor": 2
}

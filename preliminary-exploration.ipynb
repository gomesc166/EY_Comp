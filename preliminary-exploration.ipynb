{
 "cells": [
  {
   "cell_type": "markdown",
   "metadata": {},
   "source": [
    "# EY Data Science Challenge 2019"
   ]
  },
  {
   "cell_type": "markdown",
   "metadata": {},
   "source": [
    "## Preliminary Exploration\n",
    "* Most hashes have multiple trajectories, recorded throughout the day\n",
    "* Coordinates are represented in Cartesian Projection (can use `pyproj` to convert back to Lat Lon)"
   ]
  },
  {
   "cell_type": "code",
   "execution_count": 1,
   "metadata": {},
   "outputs": [],
   "source": [
    "import pandas as pd\n",
    "import numpy as np"
   ]
  },
  {
   "cell_type": "code",
   "execution_count": 2,
   "metadata": {},
   "outputs": [],
   "source": [
    "dtype = {\n",
    "    \"vmax\" : np.float64,\n",
    "    \"vmin\" : np.float64,\n",
    "    \"vmean\" : np.float64,\n",
    "    \"x_entry\" : np.float64,\n",
    "    \"y_entry\" : np.float64,\n",
    "    \"x_exit\" : np.float64,\n",
    "    \"y_exit\" : np.float64\n",
    "}"
   ]
  },
  {
   "cell_type": "code",
   "execution_count": 3,
   "metadata": {},
   "outputs": [],
   "source": [
    "train = pd.read_csv(\"data/data_train.csv\", dtype=dtype, index_col=0, nrows=100)"
   ]
  },
  {
   "cell_type": "code",
   "execution_count": 4,
   "metadata": {},
   "outputs": [
    {
     "data": {
      "text/html": [
       "<div>\n",
       "<style scoped>\n",
       "    .dataframe tbody tr th:only-of-type {\n",
       "        vertical-align: middle;\n",
       "    }\n",
       "\n",
       "    .dataframe tbody tr th {\n",
       "        vertical-align: top;\n",
       "    }\n",
       "\n",
       "    .dataframe thead th {\n",
       "        text-align: right;\n",
       "    }\n",
       "</style>\n",
       "<table border=\"1\" class=\"dataframe\">\n",
       "  <thead>\n",
       "    <tr style=\"text-align: right;\">\n",
       "      <th></th>\n",
       "      <th>hash</th>\n",
       "      <th>trajectory_id</th>\n",
       "      <th>time_entry</th>\n",
       "      <th>time_exit</th>\n",
       "      <th>vmax</th>\n",
       "      <th>vmin</th>\n",
       "      <th>vmean</th>\n",
       "      <th>x_entry</th>\n",
       "      <th>y_entry</th>\n",
       "      <th>x_exit</th>\n",
       "      <th>y_exit</th>\n",
       "    </tr>\n",
       "  </thead>\n",
       "  <tbody>\n",
       "    <tr>\n",
       "      <th>0</th>\n",
       "      <td>0000a8602cf2def930488dee7cdad104_1</td>\n",
       "      <td>traj_0000a8602cf2def930488dee7cdad104_1_0</td>\n",
       "      <td>07:04:31</td>\n",
       "      <td>07:08:32</td>\n",
       "      <td>NaN</td>\n",
       "      <td>NaN</td>\n",
       "      <td>NaN</td>\n",
       "      <td>3.751014e+06</td>\n",
       "      <td>-1.909398e+07</td>\n",
       "      <td>3.750326e+06</td>\n",
       "      <td>-1.913634e+07</td>\n",
       "    </tr>\n",
       "    <tr>\n",
       "      <th>1</th>\n",
       "      <td>0000a8602cf2def930488dee7cdad104_1</td>\n",
       "      <td>traj_0000a8602cf2def930488dee7cdad104_1_1</td>\n",
       "      <td>07:20:34</td>\n",
       "      <td>07:25:42</td>\n",
       "      <td>NaN</td>\n",
       "      <td>NaN</td>\n",
       "      <td>NaN</td>\n",
       "      <td>3.743937e+06</td>\n",
       "      <td>-1.932247e+07</td>\n",
       "      <td>3.744975e+06</td>\n",
       "      <td>-1.931966e+07</td>\n",
       "    </tr>\n",
       "    <tr>\n",
       "      <th>2</th>\n",
       "      <td>0000a8602cf2def930488dee7cdad104_1</td>\n",
       "      <td>traj_0000a8602cf2def930488dee7cdad104_1_2</td>\n",
       "      <td>07:53:32</td>\n",
       "      <td>08:03:25</td>\n",
       "      <td>NaN</td>\n",
       "      <td>NaN</td>\n",
       "      <td>NaN</td>\n",
       "      <td>3.744868e+06</td>\n",
       "      <td>-1.929356e+07</td>\n",
       "      <td>3.744816e+06</td>\n",
       "      <td>-1.929284e+07</td>\n",
       "    </tr>\n",
       "    <tr>\n",
       "      <th>3</th>\n",
       "      <td>0000a8602cf2def930488dee7cdad104_1</td>\n",
       "      <td>traj_0000a8602cf2def930488dee7cdad104_1_3</td>\n",
       "      <td>08:17:50</td>\n",
       "      <td>08:37:23</td>\n",
       "      <td>NaN</td>\n",
       "      <td>NaN</td>\n",
       "      <td>NaN</td>\n",
       "      <td>3.744880e+06</td>\n",
       "      <td>-1.929229e+07</td>\n",
       "      <td>3.744809e+06</td>\n",
       "      <td>-1.929049e+07</td>\n",
       "    </tr>\n",
       "    <tr>\n",
       "      <th>4</th>\n",
       "      <td>0000a8602cf2def930488dee7cdad104_1</td>\n",
       "      <td>traj_0000a8602cf2def930488dee7cdad104_1_4</td>\n",
       "      <td>14:38:09</td>\n",
       "      <td>14:38:09</td>\n",
       "      <td>NaN</td>\n",
       "      <td>NaN</td>\n",
       "      <td>NaN</td>\n",
       "      <td>3.744909e+06</td>\n",
       "      <td>-1.928558e+07</td>\n",
       "      <td>3.744909e+06</td>\n",
       "      <td>-1.928558e+07</td>\n",
       "    </tr>\n",
       "  </tbody>\n",
       "</table>\n",
       "</div>"
      ],
      "text/plain": [
       "                                 hash  \\\n",
       "0  0000a8602cf2def930488dee7cdad104_1   \n",
       "1  0000a8602cf2def930488dee7cdad104_1   \n",
       "2  0000a8602cf2def930488dee7cdad104_1   \n",
       "3  0000a8602cf2def930488dee7cdad104_1   \n",
       "4  0000a8602cf2def930488dee7cdad104_1   \n",
       "\n",
       "                               trajectory_id time_entry time_exit  vmax  vmin  \\\n",
       "0  traj_0000a8602cf2def930488dee7cdad104_1_0   07:04:31  07:08:32   NaN   NaN   \n",
       "1  traj_0000a8602cf2def930488dee7cdad104_1_1   07:20:34  07:25:42   NaN   NaN   \n",
       "2  traj_0000a8602cf2def930488dee7cdad104_1_2   07:53:32  08:03:25   NaN   NaN   \n",
       "3  traj_0000a8602cf2def930488dee7cdad104_1_3   08:17:50  08:37:23   NaN   NaN   \n",
       "4  traj_0000a8602cf2def930488dee7cdad104_1_4   14:38:09  14:38:09   NaN   NaN   \n",
       "\n",
       "   vmean       x_entry       y_entry        x_exit        y_exit  \n",
       "0    NaN  3.751014e+06 -1.909398e+07  3.750326e+06 -1.913634e+07  \n",
       "1    NaN  3.743937e+06 -1.932247e+07  3.744975e+06 -1.931966e+07  \n",
       "2    NaN  3.744868e+06 -1.929356e+07  3.744816e+06 -1.929284e+07  \n",
       "3    NaN  3.744880e+06 -1.929229e+07  3.744809e+06 -1.929049e+07  \n",
       "4    NaN  3.744909e+06 -1.928558e+07  3.744909e+06 -1.928558e+07  "
      ]
     },
     "execution_count": 4,
     "metadata": {},
     "output_type": "execute_result"
    }
   ],
   "source": [
    "train.head()"
   ]
  },
  {
   "cell_type": "code",
   "execution_count": 5,
   "metadata": {},
   "outputs": [
    {
     "name": "stdout",
     "output_type": "stream",
     "text": [
      "<class 'pandas.core.frame.DataFrame'>\n",
      "Int64Index: 100 entries, 0 to 99\n",
      "Data columns (total 11 columns):\n",
      "hash             100 non-null object\n",
      "trajectory_id    100 non-null object\n",
      "time_entry       100 non-null object\n",
      "time_exit        100 non-null object\n",
      "vmax             16 non-null float64\n",
      "vmin             16 non-null float64\n",
      "vmean            16 non-null float64\n",
      "x_entry          100 non-null float64\n",
      "y_entry          100 non-null float64\n",
      "x_exit           100 non-null float64\n",
      "y_exit           100 non-null float64\n",
      "dtypes: float64(7), object(4)\n",
      "memory usage: 9.4+ KB\n"
     ]
    }
   ],
   "source": [
    "train.info()"
   ]
  },
  {
   "cell_type": "markdown",
   "metadata": {},
   "source": [
    "## Check coordinates map to sensible LatLongs\n",
    "\n",
    "They do seem sensible - all of the latlongs are in Atlanta."
   ]
  },
  {
   "cell_type": "code",
   "execution_count": 6,
   "metadata": {},
   "outputs": [],
   "source": [
    "from pyproj import Proj, transform"
   ]
  },
  {
   "cell_type": "code",
   "execution_count": 7,
   "metadata": {},
   "outputs": [],
   "source": [
    "# define the CP -> LatLon converter\n",
    "def xy_to_latlon(x, y):\n",
    "    cp = Proj(init='epsg:3857')\n",
    "    ll = Proj(init='epsg:4326')\n",
    "    lat, lon = transform(cp, ll, x, y)\n",
    "    return lat, lon\n",
    "\n",
    "def x_to_lat(x):\n",
    "    cp = Proj(init='epsg:3857')\n",
    "    ll = Proj(init='epsg:4326')\n",
    "    lat, _ = transform(cp, ll, x, 0)\n",
    "    return lat\n",
    "    \n",
    "def y_to_long(y):\n",
    "    cp = Proj(init='epsg:3857')\n",
    "    ll = Proj(init='epsg:4326')\n",
    "    _, long = transform(cp, ll, 0, y)\n",
    "    return long"
   ]
  },
  {
   "cell_type": "code",
   "execution_count": 8,
   "metadata": {},
   "outputs": [
    {
     "data": {
      "text/plain": [
       "(33.695930000000004, -84.26334)"
      ]
     },
     "execution_count": 8,
     "metadata": {},
     "output_type": "execute_result"
    }
   ],
   "source": [
    "xy_to_latlon(train[\"x_entry\"][0], train[\"y_entry\"][0])"
   ]
  },
  {
   "cell_type": "code",
   "execution_count": 9,
   "metadata": {},
   "outputs": [
    {
     "data": {
      "text/plain": [
       "33.695930000000004"
      ]
     },
     "execution_count": 9,
     "metadata": {},
     "output_type": "execute_result"
    }
   ],
   "source": [
    "x_to_lat(train[\"x_entry\"][0])"
   ]
  },
  {
   "cell_type": "code",
   "execution_count": 10,
   "metadata": {},
   "outputs": [
    {
     "data": {
      "text/plain": [
       "-84.26334"
      ]
     },
     "execution_count": 10,
     "metadata": {},
     "output_type": "execute_result"
    }
   ],
   "source": [
    "y_to_long(train[\"y_entry\"][0])"
   ]
  },
  {
   "cell_type": "markdown",
   "metadata": {},
   "source": [
    "## Check which coords lie within the city centre"
   ]
  },
  {
   "cell_type": "code",
   "execution_count": 21,
   "metadata": {},
   "outputs": [],
   "source": [
    "center_lat_min = np.float64(3750901.5068)\n",
    "center_lat_max = np.float64(3770901.5068)\n",
    "center_lon_min = np.float64(-19268905.6133)\n",
    "center_lon_max = np.float64(-19208905.6133)"
   ]
  },
  {
   "cell_type": "code",
   "execution_count": 25,
   "metadata": {},
   "outputs": [
    {
     "data": {
      "text/plain": [
       "(33.694921527853836, -84.41828535661946)"
      ]
     },
     "execution_count": 25,
     "metadata": {},
     "output_type": "execute_result"
    }
   ],
   "source": [
    "xy_to_latlon(center_lat_min, center_lon_min)"
   ]
  },
  {
   "cell_type": "code",
   "execution_count": 26,
   "metadata": {},
   "outputs": [
    {
     "data": {
      "text/plain": [
       "(33.874584584677734, -84.36561424964582)"
      ]
     },
     "execution_count": 26,
     "metadata": {},
     "output_type": "execute_result"
    }
   ],
   "source": [
    "xy_to_latlon(center_lat_max, center_lon_max)"
   ]
  },
  {
   "cell_type": "code",
   "execution_count": 29,
   "metadata": {},
   "outputs": [],
   "source": [
    "def xy_in_center(x, y):\n",
    "    center_lat_min = np.float64(3750901.5068)\n",
    "    center_lat_max = np.float64(3770901.5068)\n",
    "    center_lon_min = np.float64(-19268905.6133)\n",
    "    center_lon_max = np.float64(-19208905.6133)\n",
    "    return (center_lat_min <= x <= center_lat_max) and\\\n",
    "           (center_lon_min <= y <= center_lon_max)"
   ]
  },
  {
   "cell_type": "code",
   "execution_count": 33,
   "metadata": {},
   "outputs": [],
   "source": [
    "train[\"entry_in_center\"] = train.apply(lambda row: xy_in_center(row[\"x_entry\"], row[\"y_entry\"]), axis=1)\n",
    "train[\"exit_in_center\"] = train.apply(lambda row: xy_in_center(row[\"x_exit\"], row[\"y_exit\"]), axis=1)\n"
   ]
  },
  {
   "cell_type": "code",
   "execution_count": 38,
   "metadata": {},
   "outputs": [
    {
     "data": {
      "text/html": [
       "<div>\n",
       "<style scoped>\n",
       "    .dataframe tbody tr th:only-of-type {\n",
       "        vertical-align: middle;\n",
       "    }\n",
       "\n",
       "    .dataframe tbody tr th {\n",
       "        vertical-align: top;\n",
       "    }\n",
       "\n",
       "    .dataframe thead th {\n",
       "        text-align: right;\n",
       "    }\n",
       "</style>\n",
       "<table border=\"1\" class=\"dataframe\">\n",
       "  <thead>\n",
       "    <tr style=\"text-align: right;\">\n",
       "      <th></th>\n",
       "      <th>hash</th>\n",
       "      <th>trajectory_id</th>\n",
       "      <th>time_entry</th>\n",
       "      <th>time_exit</th>\n",
       "      <th>vmax</th>\n",
       "      <th>vmin</th>\n",
       "      <th>vmean</th>\n",
       "      <th>x_entry</th>\n",
       "      <th>y_entry</th>\n",
       "      <th>x_exit</th>\n",
       "      <th>y_exit</th>\n",
       "      <th>entry_in_center</th>\n",
       "      <th>exit_in_center</th>\n",
       "    </tr>\n",
       "  </thead>\n",
       "  <tbody>\n",
       "    <tr>\n",
       "      <th>0</th>\n",
       "      <td>0000a8602cf2def930488dee7cdad104_1</td>\n",
       "      <td>traj_0000a8602cf2def930488dee7cdad104_1_0</td>\n",
       "      <td>2019-04-07 07:04:31</td>\n",
       "      <td>2019-04-07 07:08:32</td>\n",
       "      <td>NaN</td>\n",
       "      <td>NaN</td>\n",
       "      <td>NaN</td>\n",
       "      <td>3.751014e+06</td>\n",
       "      <td>-1.909398e+07</td>\n",
       "      <td>3.750326e+06</td>\n",
       "      <td>-1.913634e+07</td>\n",
       "      <td>False</td>\n",
       "      <td>False</td>\n",
       "    </tr>\n",
       "    <tr>\n",
       "      <th>1</th>\n",
       "      <td>0000a8602cf2def930488dee7cdad104_1</td>\n",
       "      <td>traj_0000a8602cf2def930488dee7cdad104_1_1</td>\n",
       "      <td>2019-04-07 07:20:34</td>\n",
       "      <td>2019-04-07 07:25:42</td>\n",
       "      <td>NaN</td>\n",
       "      <td>NaN</td>\n",
       "      <td>NaN</td>\n",
       "      <td>3.743937e+06</td>\n",
       "      <td>-1.932247e+07</td>\n",
       "      <td>3.744975e+06</td>\n",
       "      <td>-1.931966e+07</td>\n",
       "      <td>False</td>\n",
       "      <td>False</td>\n",
       "    </tr>\n",
       "    <tr>\n",
       "      <th>2</th>\n",
       "      <td>0000a8602cf2def930488dee7cdad104_1</td>\n",
       "      <td>traj_0000a8602cf2def930488dee7cdad104_1_2</td>\n",
       "      <td>2019-04-07 07:53:32</td>\n",
       "      <td>2019-04-07 08:03:25</td>\n",
       "      <td>NaN</td>\n",
       "      <td>NaN</td>\n",
       "      <td>NaN</td>\n",
       "      <td>3.744868e+06</td>\n",
       "      <td>-1.929356e+07</td>\n",
       "      <td>3.744816e+06</td>\n",
       "      <td>-1.929284e+07</td>\n",
       "      <td>False</td>\n",
       "      <td>False</td>\n",
       "    </tr>\n",
       "    <tr>\n",
       "      <th>3</th>\n",
       "      <td>0000a8602cf2def930488dee7cdad104_1</td>\n",
       "      <td>traj_0000a8602cf2def930488dee7cdad104_1_3</td>\n",
       "      <td>2019-04-07 08:17:50</td>\n",
       "      <td>2019-04-07 08:37:23</td>\n",
       "      <td>NaN</td>\n",
       "      <td>NaN</td>\n",
       "      <td>NaN</td>\n",
       "      <td>3.744880e+06</td>\n",
       "      <td>-1.929229e+07</td>\n",
       "      <td>3.744809e+06</td>\n",
       "      <td>-1.929049e+07</td>\n",
       "      <td>False</td>\n",
       "      <td>False</td>\n",
       "    </tr>\n",
       "    <tr>\n",
       "      <th>4</th>\n",
       "      <td>0000a8602cf2def930488dee7cdad104_1</td>\n",
       "      <td>traj_0000a8602cf2def930488dee7cdad104_1_4</td>\n",
       "      <td>2019-04-07 14:38:09</td>\n",
       "      <td>2019-04-07 14:38:09</td>\n",
       "      <td>NaN</td>\n",
       "      <td>NaN</td>\n",
       "      <td>NaN</td>\n",
       "      <td>3.744909e+06</td>\n",
       "      <td>-1.928558e+07</td>\n",
       "      <td>3.744909e+06</td>\n",
       "      <td>-1.928558e+07</td>\n",
       "      <td>False</td>\n",
       "      <td>False</td>\n",
       "    </tr>\n",
       "  </tbody>\n",
       "</table>\n",
       "</div>"
      ],
      "text/plain": [
       "                                 hash  \\\n",
       "0  0000a8602cf2def930488dee7cdad104_1   \n",
       "1  0000a8602cf2def930488dee7cdad104_1   \n",
       "2  0000a8602cf2def930488dee7cdad104_1   \n",
       "3  0000a8602cf2def930488dee7cdad104_1   \n",
       "4  0000a8602cf2def930488dee7cdad104_1   \n",
       "\n",
       "                               trajectory_id          time_entry  \\\n",
       "0  traj_0000a8602cf2def930488dee7cdad104_1_0 2019-04-07 07:04:31   \n",
       "1  traj_0000a8602cf2def930488dee7cdad104_1_1 2019-04-07 07:20:34   \n",
       "2  traj_0000a8602cf2def930488dee7cdad104_1_2 2019-04-07 07:53:32   \n",
       "3  traj_0000a8602cf2def930488dee7cdad104_1_3 2019-04-07 08:17:50   \n",
       "4  traj_0000a8602cf2def930488dee7cdad104_1_4 2019-04-07 14:38:09   \n",
       "\n",
       "            time_exit  vmax  vmin  vmean       x_entry       y_entry  \\\n",
       "0 2019-04-07 07:08:32   NaN   NaN    NaN  3.751014e+06 -1.909398e+07   \n",
       "1 2019-04-07 07:25:42   NaN   NaN    NaN  3.743937e+06 -1.932247e+07   \n",
       "2 2019-04-07 08:03:25   NaN   NaN    NaN  3.744868e+06 -1.929356e+07   \n",
       "3 2019-04-07 08:37:23   NaN   NaN    NaN  3.744880e+06 -1.929229e+07   \n",
       "4 2019-04-07 14:38:09   NaN   NaN    NaN  3.744909e+06 -1.928558e+07   \n",
       "\n",
       "         x_exit        y_exit  entry_in_center  exit_in_center  \n",
       "0  3.750326e+06 -1.913634e+07            False           False  \n",
       "1  3.744975e+06 -1.931966e+07            False           False  \n",
       "2  3.744816e+06 -1.929284e+07            False           False  \n",
       "3  3.744809e+06 -1.929049e+07            False           False  \n",
       "4  3.744909e+06 -1.928558e+07            False           False  "
      ]
     },
     "execution_count": 38,
     "metadata": {},
     "output_type": "execute_result"
    }
   ],
   "source": [
    "train.head()"
   ]
  },
  {
   "cell_type": "code",
   "execution_count": 40,
   "metadata": {},
   "outputs": [
    {
     "data": {
      "text/plain": [
       "<matplotlib.axes._subplots.AxesSubplot at 0x113dc3240>"
      ]
     },
     "execution_count": 40,
     "metadata": {},
     "output_type": "execute_result"
    },
    {
     "data": {
      "image/png": "[encoded data removed]",
      "text/plain": [
       "<matplotlib.figure.Figure at 0x1138380f0>"
      ]
     },
     "metadata": {},
     "output_type": "display_data"
    }
   ],
   "source": [
    "%matplotlib inline\n",
    "train[\"exit_in_center\"].hist()"
   ]
  },
  {
   "cell_type": "code",
   "execution_count": 41,
   "metadata": {},
   "outputs": [
    {
     "data": {
      "text/plain": [
       "False    75\n",
       "True     25\n",
       "Name: exit_in_center, dtype: int64"
      ]
     },
     "execution_count": 41,
     "metadata": {},
     "output_type": "execute_result"
    }
   ],
   "source": [
    "train[\"exit_in_center\"].value_counts()"
   ]
  },
  {
   "cell_type": "markdown",
   "metadata": {},
   "source": [
    "## Convert the time columns to pd.Timestamp"
   ]
  },
  {
   "cell_type": "code",
   "execution_count": 11,
   "metadata": {},
   "outputs": [],
   "source": [
    "train['time_entry'] = pd.to_datetime(train['time_entry'])\n",
    "train['time_exit'] = pd.to_datetime(train['time_exit'])"
   ]
  },
  {
   "cell_type": "code",
   "execution_count": 27,
   "metadata": {},
   "outputs": [
    {
     "data": {
      "text/plain": [
       "0    07:04:31\n",
       "1    07:20:34\n",
       "2    07:53:32\n",
       "3    08:17:50\n",
       "4    14:38:09\n",
       "5    15:02:31\n",
       "6    14:29:23\n",
       "7    14:39:49\n",
       "8    14:50:14\n",
       "9    15:00:32\n",
       "Name: time_entry, dtype: object"
      ]
     },
     "execution_count": 27,
     "metadata": {},
     "output_type": "execute_result"
    }
   ],
   "source": [
    "train[\"time_entry\"][:10].dt.time"
   ]
  },
  {
   "cell_type": "code",
   "execution_count": 12,
   "metadata": {},
   "outputs": [
    {
     "name": "stdout",
     "output_type": "stream",
     "text": [
      "<class 'pandas.core.frame.DataFrame'>\n",
      "Int64Index: 100 entries, 0 to 99\n",
      "Data columns (total 11 columns):\n",
      "hash             100 non-null object\n",
      "trajectory_id    100 non-null object\n",
      "time_entry       100 non-null datetime64[ns]\n",
      "time_exit        100 non-null datetime64[ns]\n",
      "vmax             16 non-null float64\n",
      "vmin             16 non-null float64\n",
      "vmean            16 non-null float64\n",
      "x_entry          100 non-null float64\n",
      "y_entry          100 non-null float64\n",
      "x_exit           100 non-null float64\n",
      "y_exit           100 non-null float64\n",
      "dtypes: datetime64[ns](2), float64(7), object(2)\n",
      "memory usage: 14.4+ KB\n"
     ]
    }
   ],
   "source": [
    "train.info()"
   ]
  },
  {
   "cell_type": "markdown",
   "metadata": {},
   "source": [
    "## Looking at just the latest timestamp for each hash"
   ]
  },
  {
   "cell_type": "code",
   "execution_count": 44,
   "metadata": {},
   "outputs": [],
   "source": [
    "latest = train.loc[train.groupby(\"hash\").time_exit.idxmax()]"
   ]
  },
  {
   "cell_type": "code",
   "execution_count": 53,
   "metadata": {},
   "outputs": [
    {
     "data": {
      "text/plain": [
       "False    16\n",
       "True      3\n",
       "Name: exit_in_center, dtype: int64"
      ]
     },
     "execution_count": 53,
     "metadata": {},
     "output_type": "execute_result"
    }
   ],
   "source": [
    "latest[\"exit_in_center\"].value_counts()"
   ]
  },
  {
   "cell_type": "code",
   "execution_count": null,
   "metadata": {},
   "outputs": [],
   "source": []
  }
 ],
 "metadata": {
  "kernelspec": {
   "display_name": "Python 3",
   "language": "python",
   "name": "python3"
  },
  "language_info": {
   "codemirror_mode": {
    "name": "ipython",
    "version": 3
   },
   "file_extension": ".py",
   "mimetype": "text/x-python",
   "name": "python",
   "nbconvert_exporter": "python",
   "pygments_lexer": "ipython3",
   "version": "3.6.4"
  }
 },
 "nbformat": 4,
 "nbformat_minor": 2
}
